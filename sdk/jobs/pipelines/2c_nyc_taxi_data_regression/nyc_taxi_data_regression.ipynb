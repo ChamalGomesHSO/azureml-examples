{
 "cells": [
  {
   "cell_type": "markdown",
   "metadata": {},
   "source": [
    "# NYC taxi data regression\n",
    "\n",
    "**Requirements** - In order to benefit from this tutorial, you will need:\n",
    "- A basic understanding of Machine Learning\n",
    "- An Azure account with an active subscription - [Create an account for free](https://azure.microsoft.com/free/?WT.mc_id=A261C142F)\n",
    "- An Azure ML workspace with computer cluster - [Configure workspace](../../configuration.ipynb)\n",
    "- A python environment\n",
    "- Installed Azure Machine Learning Python SDK v2 - [install instructions](../../../README.md) - check the getting started section\n",
    "\n",
    "**Learning Objectives** - By the end of this tutorial, you should be able to:\n",
    "- Connect to your AML workspace from the Python SDK\n",
    "- Define different `CommandComponent` using YAML\n",
    "- Create `Pipeline` load these components from YAML\n",
    "\n",
    "**Motivations** - This notebook explains how to load component via SDK then use these components to build pipeline. We use NYC dataset, build pipeline with five steps, prep data, transform data, train model, predict results and evaluate model performance."
   ]
  },
  {
   "cell_type": "markdown",
   "metadata": {},
   "source": [
    "# 1. Connect to Azure Machine Learning Workspace\n",
    "\n",
    "The [workspace](https://docs.microsoft.com/en-us/azure/machine-learning/concept-workspace) is the top-level resource for Azure Machine Learning, providing a centralized place to work with all the artifacts you create when you use Azure Machine Learning. In this section we will connect to the workspace in which the job will be run.\n",
    "\n",
    "## 1.1 Import the required libraries"
   ]
  },
  {
   "cell_type": "code",
   "execution_count": 1,
   "metadata": {},
   "outputs": [],
   "source": [
    "# import required libraries\n",
    "from azure.identity import DefaultAzureCredential, InteractiveBrowserCredential\n",
    "\n",
    "from azure.ai.ml import MLClient, Input\n",
    "from azure.ai.ml.dsl import pipeline\n",
    "from azure.ai.ml import load_component"
   ]
  },
  {
   "cell_type": "markdown",
   "metadata": {},
   "source": [
    "## 1.2 Configure credential\n",
    "\n",
    "We are using `DefaultAzureCredential` to get access to workspace. \n",
    "`DefaultAzureCredential` should be capable of handling most Azure SDK authentication scenarios. \n",
    "\n",
    "Reference for more available credentials if it does not work for you: [configure credential example](../../configuration.ipynb), [azure-identity reference doc](https://docs.microsoft.com/en-us/python/api/azure-identity/azure.identity?view=azure-python)."
   ]
  },
  {
   "cell_type": "code",
   "execution_count": 2,
   "metadata": {},
   "outputs": [
    {
     "name": "stderr",
     "output_type": "stream",
     "text": [
      "DefaultAzureCredential failed to retrieve a token from the included credentials.\n",
      "Attempted credentials:\n",
      "\tEnvironmentCredential: EnvironmentCredential authentication unavailable. Environment variables are not fully configured.\n",
      "Visit https://aka.ms/azsdk/python/identity/environmentcredential/troubleshoot to troubleshoot.this issue.\n",
      "\tManagedIdentityCredential: ManagedIdentityCredential authentication unavailable, no response from the IMDS endpoint.\n",
      "\tSharedTokenCacheCredential: Shared token cache unavailable\n",
      "\tVisualStudioCodeCredential: Azure Active Directory error '(invalid_grant) AADSTS700082: The refresh token has expired due to inactivity. The token was issued on 2022-01-12T00:05:41.8429245Z and was inactive for 90.00:00:00.\n",
      "Trace ID: 9eb6cea6-a334-49e7-927e-47b9f8c74200\n",
      "Correlation ID: 11b2b1cc-b1b9-40f1-9aa6-a2bfdc623773\n",
      "Timestamp: 2022-08-10 11:08:17Z'\n",
      "Content: {\"error\":\"invalid_grant\",\"error_description\":\"AADSTS700082: The refresh token has expired due to inactivity. The token was issued on 2022-01-12T00:05:41.8429245Z and was inactive for 90.00:00:00.\\r\\nTrace ID: 9eb6cea6-a334-49e7-927e-47b9f8c74200\\r\\nCorrelation ID: 11b2b1cc-b1b9-40f1-9aa6-a2bfdc623773\\r\\nTimestamp: 2022-08-10 11:08:17Z\",\"error_codes\":[700082],\"timestamp\":\"2022-08-10 11:08:17Z\",\"trace_id\":\"9eb6cea6-a334-49e7-927e-47b9f8c74200\",\"correlation_id\":\"11b2b1cc-b1b9-40f1-9aa6-a2bfdc623773\",\"error_uri\":\"https://login.microsoftonline.com/error?code=700082\"}\n",
      "To mitigate this issue, please refer to the troubleshooting guidelines here at https://aka.ms/azsdk/python/identity/defaultazurecredential/troubleshoot.\n"
     ]
    }
   ],
   "source": [
    "try:\n",
    "    credential = DefaultAzureCredential()\n",
    "    # Check if given credential can get token successfully.\n",
    "    credential.get_token(\"https://management.azure.com/.default\")\n",
    "except Exception as ex:\n",
    "    # Fall back to InteractiveBrowserCredential in case DefaultAzureCredential not work\n",
    "    credential = InteractiveBrowserCredential()"
   ]
  },
  {
   "cell_type": "markdown",
   "metadata": {},
   "source": [
    "## 1.3 Get a handle to the workspace\n",
    "\n",
    "We use config file to connect to a workspace. The Azure ML workspace should be configured with computer cluster. [Check this notebook for configure a workspace](../../configuration.ipynb)"
   ]
  },
  {
   "cell_type": "code",
   "execution_count": 3,
   "metadata": {},
   "outputs": [
    {
     "name": "stderr",
     "output_type": "stream",
     "text": [
      "Found the config file in: D:\\azureml-examples\\sdk\\jobs\\config.json\n"
     ]
    },
    {
     "name": "stdout",
     "output_type": "stream",
     "text": [
      "AmlCompute({'type': 'amlcompute', 'created_on': None, 'provisioning_state': 'Succeeded', 'provisioning_errors': None, 'name': 'cpu-cluster', 'description': None, 'tags': {}, 'properties': {}, 'id': '/subscriptions/6560575d-fa06-4e7d-95fb-f962e74efd7a/resourceGroups/azureml-examples-v2/providers/Microsoft.MachineLearningServices/workspaces/main/computes/cpu-cluster', 'Resource__source_path': None, 'base_path': 'd:\\\\azureml-examples\\\\sdk\\\\jobs\\\\pipelines\\\\2c_nyc_taxi_data_regression', 'creation_context': None, 'serialize': <msrest.serialization.Serializer object at 0x000001D0A8417940>, 'resource_id': None, 'location': 'eastus', 'size': 'STANDARD_D2_V2', 'min_instances': 0, 'max_instances': 40, 'idle_time_before_scale_down': 1800.0, 'identity': None, 'ssh_public_access_enabled': True, 'ssh_settings': None, 'network_settings': <azure.ai.ml.entities._compute.compute.NetworkSettings object at 0x000001D0A840B970>, 'tier': 'dedicated'})\n"
     ]
    }
   ],
   "source": [
    "# Get a handle to workspace\n",
    "ml_client = MLClient.from_config(credential=credential)\n",
    "\n",
    "# Retrieve an already attached Azure Machine Learning Compute.\n",
    "cluster_name = \"cpu-cluster\"\n",
    "print(ml_client.compute.get(cluster_name))"
   ]
  },
  {
   "cell_type": "markdown",
   "metadata": {},
   "source": [
    "# 2. Build pipeline"
   ]
  },
  {
   "cell_type": "code",
   "execution_count": 6,
   "metadata": {},
   "outputs": [],
   "source": [
    "parent_dir = \"\"\n",
    "\n",
    "# 1. Load components\n",
    "prepare_data = load_component(path=parent_dir + \"./prep.yml\")\n",
    "transform_data = load_component(path=parent_dir + \"./transform.yml\")\n",
    "train_model = load_component(path=parent_dir + \"./train.yml\")\n",
    "predict_result = load_component(path=parent_dir + \"./predict.yml\")\n",
    "score_data = load_component(path=parent_dir + \"./score.yml\")\n",
    "\n",
    "# 2. Construct pipeline\n",
    "@pipeline()\n",
    "def nyc_taxi_data_regression(pipeline_job_input):\n",
    "    \"\"\"NYC taxi data regression example.\"\"\"\n",
    "    prepare_sample_data = prepare_data(raw_data=pipeline_job_input)\n",
    "    transform_sample_data = transform_data(\n",
    "        clean_data=prepare_sample_data.outputs.prep_data\n",
    "    )\n",
    "    train_with_sample_data = train_model(\n",
    "        training_data=transform_sample_data.outputs.transformed_data\n",
    "    )\n",
    "    # train_with_sample_data.outputs.model_output.type='mlflow_model'\n",
    "    predict_with_sample_data = predict_result(\n",
    "        model_input=train_with_sample_data.outputs.model_output,\n",
    "        test_data=train_with_sample_data.outputs.test_data,\n",
    "    )\n",
    "    # predict_with_sample_data.inputs.model_input.type='mlflow_model'\n",
    "    score_with_sample_data = score_data(\n",
    "        predictions=predict_with_sample_data.outputs.predictions,\n",
    "        model=train_with_sample_data.outputs.model_output,\n",
    "    )\n",
    "    # score_with_sample_data.inputs.model.type='mlflow_model'\n",
    "    return {\n",
    "        \"pipeline_job_prepped_data\": prepare_sample_data.outputs.prep_data,\n",
    "        \"pipeline_job_transformed_data\": transform_sample_data.outputs.transformed_data,\n",
    "        \"pipeline_job_trained_model\": train_with_sample_data.outputs.model_output,\n",
    "        \"pipeline_job_test_data\": train_with_sample_data.outputs.test_data,\n",
    "        \"pipeline_job_predictions\": predict_with_sample_data.outputs.predictions,\n",
    "        \"pipeline_job_score_report\": score_with_sample_data.outputs.score_report,\n",
    "    }\n",
    "\n",
    "\n",
    "pipeline_job = nyc_taxi_data_regression(\n",
    "    Input(type=\"uri_folder\", path=parent_dir + \"./data/\")\n",
    ")\n",
    "# demo how to change pipeline output settings\n",
    "pipeline_job.outputs.pipeline_job_prepped_data.mode = \"rw_mount\"\n",
    "\n",
    "# set pipeline level compute\n",
    "pipeline_job.settings.default_compute=\"cpu-cluster\"\n",
    "pipeline_job.settings.force_rerun=True\n",
    "# set pipeline level datastore\n",
    "pipeline_job.settings.default_datastore=\"workspaceblobstore\"\n"
   ]
  },
  {
   "cell_type": "markdown",
   "metadata": {},
   "source": [
    "## 3. Submit pipeline job"
   ]
  },
  {
   "cell_type": "code",
   "execution_count": 7,
   "metadata": {},
   "outputs": [
    {
     "data": {
      "text/html": [
       "<table style=\"width:100%\"><tr><th>Experiment</th><th>Name</th><th>Type</th><th>Status</th><th>Details Page</th></tr><tr><td>pipeline_samples</td><td>goofy_camera_r79mbl1hy9</td><td>pipeline</td><td>Preparing</td><td><a href=\"https://ml.azure.com/runs/goofy_camera_r79mbl1hy9?wsid=/subscriptions/6560575d-fa06-4e7d-95fb-f962e74efd7a/resourcegroups/azureml-examples-v2/workspaces/main&amp;tid=72f988bf-86f1-41af-91ab-2d7cd011db47\" target=\"_blank\" rel=\"noopener\">Link to Azure Machine Learning studio</a></td></tr></table>"
      ],
      "text/plain": [
       "PipelineJob({'inputs': {'pipeline_job_input': <azure.ai.ml.entities._job.pipeline._io.PipelineInput object at 0x000001D0AA202790>}, 'outputs': {'pipeline_job_prepped_data': <azure.ai.ml.entities._job.pipeline._io.PipelineOutput object at 0x000001D0AA202580>, 'pipeline_job_transformed_data': <azure.ai.ml.entities._job.pipeline._io.PipelineOutput object at 0x000001D0AA202520>, 'pipeline_job_trained_model': <azure.ai.ml.entities._job.pipeline._io.PipelineOutput object at 0x000001D0A9D351F0>, 'pipeline_job_test_data': <azure.ai.ml.entities._job.pipeline._io.PipelineOutput object at 0x000001D0A9D35430>, 'pipeline_job_predictions': <azure.ai.ml.entities._job.pipeline._io.PipelineOutput object at 0x000001D0A9D35760>, 'pipeline_job_score_report': <azure.ai.ml.entities._job.pipeline._io.PipelineOutput object at 0x000001D0A9D35790>}, 'component': PipelineComponent({'auto_increment_version': False, 'source': 'REMOTE.WORKSPACE.JOB', 'is_anonymous': True, 'name': 'azureml_anonymous', 'description': 'NYC taxi data regression example.', 'tags': {}, 'properties': {}, 'id': None, 'Resource__source_path': None, 'base_path': None, 'creation_context': None, 'serialize': <msrest.serialization.Serializer object at 0x000001D0AA212550>, 'version': '1', 'latest_version': None, 'schema': None, 'type': 'pipeline', 'display_name': 'nyc_taxi_data_regression', 'is_deterministic': True, 'inputs': {'pipeline_job_input': {'type': 'unknown'}}, 'outputs': {'pipeline_job_prepped_data': {'type': 'unknown'}, 'pipeline_job_transformed_data': {'type': 'unknown'}, 'pipeline_job_trained_model': {'type': 'unknown'}, 'pipeline_job_test_data': {'type': 'unknown'}, 'pipeline_job_predictions': {'type': 'unknown'}, 'pipeline_job_score_report': {'type': 'unknown'}}, 'yaml_str': None, 'other_parameter': {}, 'func': <function [component] nyc_taxi_data_regression at 0x000001D0A9D43790>, 'jobs': {'prepare_sample_data': Command({'parameters': {}, 'init': False, 'type': 'command', 'status': None, 'log_files': None, 'name': 'prepare_sample_data', 'description': None, 'tags': {}, 'properties': {}, 'id': None, 'Resource__source_path': None, 'base_path': None, 'creation_context': None, 'serialize': <msrest.serialization.Serializer object at 0x000001D0AA202D60>, 'allowed_keys': {}, 'key_restriction': False, 'logger': <Logger attr_dict (WARNING)>, 'display_name': None, 'experiment_name': None, 'compute': None, 'services': None, 'job_inputs': {'raw_data': '${{parent.inputs.pipeline_job_input}}'}, 'job_outputs': {'prep_data': '${{parent.outputs.pipeline_job_prepped_data}}'}, 'inputs': {'raw_data': <azure.ai.ml.entities._job.pipeline._io.PipelineInputBase object at 0x000001D0AA202E50>}, 'outputs': {'prep_data': <azure.ai.ml.entities._job.pipeline._io.PipelineOutputBase object at 0x000001D0AA202EB0>}, 'component': 'azureml_anonymous:ea4718f3-4ec1-4d99-a71e-6deec723a648', 'kwargs': {}, 'instance_id': '0b789486-bbcf-4748-b565-019fe223e981', 'limits': None, 'identity': None, 'distribution': None, 'environment_variables': {}, 'environment': None, 'resources': None, 'swept': False}), 'transform_sample_data': Command({'parameters': {}, 'init': False, 'type': 'command', 'status': None, 'log_files': None, 'name': 'transform_sample_data', 'description': None, 'tags': {}, 'properties': {}, 'id': None, 'Resource__source_path': None, 'base_path': None, 'creation_context': None, 'serialize': <msrest.serialization.Serializer object at 0x000001D0AA202CD0>, 'allowed_keys': {}, 'key_restriction': False, 'logger': <Logger attr_dict (WARNING)>, 'display_name': None, 'experiment_name': None, 'compute': None, 'services': None, 'job_inputs': {'clean_data': '${{parent.jobs.prepare_sample_data.outputs.prep_data}}'}, 'job_outputs': {'transformed_data': '${{parent.outputs.pipeline_job_transformed_data}}'}, 'inputs': {'clean_data': <azure.ai.ml.entities._job.pipeline._io.PipelineInputBase object at 0x000001D0AA202FA0>}, 'outputs': {'transformed_data': <azure.ai.ml.entities._job.pipeline._io.PipelineOutputBase object at 0x000001D0AA202FD0>}, 'component': 'azureml_anonymous:f57c3ba3-efe6-4f79-bb0c-473dbffc048b', 'kwargs': {}, 'instance_id': 'ef7ccbcd-5194-447f-8774-33e47f06b31c', 'limits': None, 'identity': None, 'distribution': None, 'environment_variables': {}, 'environment': None, 'resources': None, 'swept': False}), 'train_with_sample_data': Command({'parameters': {}, 'init': False, 'type': 'command', 'status': None, 'log_files': None, 'name': 'train_with_sample_data', 'description': None, 'tags': {}, 'properties': {}, 'id': None, 'Resource__source_path': None, 'base_path': None, 'creation_context': None, 'serialize': <msrest.serialization.Serializer object at 0x000001D0AA202F10>, 'allowed_keys': {}, 'key_restriction': False, 'logger': <Logger attr_dict (WARNING)>, 'display_name': None, 'experiment_name': None, 'compute': None, 'services': None, 'job_inputs': {'training_data': '${{parent.jobs.transform_sample_data.outputs.transformed_data}}'}, 'job_outputs': {'model_output': '${{parent.outputs.pipeline_job_trained_model}}', 'test_data': '${{parent.outputs.pipeline_job_test_data}}'}, 'inputs': {'training_data': <azure.ai.ml.entities._job.pipeline._io.PipelineInputBase object at 0x000001D0AA202AF0>}, 'outputs': {'model_output': <azure.ai.ml.entities._job.pipeline._io.PipelineOutputBase object at 0x000001D0AA202C10>, 'test_data': <azure.ai.ml.entities._job.pipeline._io.PipelineOutputBase object at 0x000001D0AA202C40>}, 'component': 'azureml_anonymous:b45646bd-846c-4fa7-b7f1-337f09aa41fc', 'kwargs': {}, 'instance_id': 'd5407cd1-84f5-4654-bc44-daa1993f8685', 'limits': None, 'identity': None, 'distribution': None, 'environment_variables': {}, 'environment': None, 'resources': None, 'swept': False}), 'predict_with_sample_data': Command({'parameters': {}, 'init': False, 'type': 'command', 'status': None, 'log_files': None, 'name': 'predict_with_sample_data', 'description': None, 'tags': {}, 'properties': {}, 'id': None, 'Resource__source_path': None, 'base_path': None, 'creation_context': None, 'serialize': <msrest.serialization.Serializer object at 0x000001D0AA202EE0>, 'allowed_keys': {}, 'key_restriction': False, 'logger': <Logger attr_dict (WARNING)>, 'display_name': None, 'experiment_name': None, 'compute': None, 'services': None, 'job_inputs': {'model_input': '${{parent.jobs.train_with_sample_data.outputs.model_output}}', 'test_data': '${{parent.jobs.train_with_sample_data.outputs.test_data}}'}, 'job_outputs': {'predictions': '${{parent.outputs.pipeline_job_predictions}}'}, 'inputs': {'model_input': <azure.ai.ml.entities._job.pipeline._io.PipelineInputBase object at 0x000001D0AA202A90>, 'test_data': <azure.ai.ml.entities._job.pipeline._io.PipelineInputBase object at 0x000001D0AA202E80>}, 'outputs': {'predictions': <azure.ai.ml.entities._job.pipeline._io.PipelineOutputBase object at 0x000001D0AA202E20>}, 'component': 'azureml_anonymous:c5274f7a-92c4-4068-8e3f-4f71190fa400', 'kwargs': {}, 'instance_id': '1fa3c2a5-8117-4398-837d-de77b04ed893', 'limits': None, 'identity': None, 'distribution': None, 'environment_variables': {}, 'environment': None, 'resources': None, 'swept': False}), 'score_with_sample_data': Command({'parameters': {}, 'init': False, 'type': 'command', 'status': None, 'log_files': None, 'name': 'score_with_sample_data', 'description': None, 'tags': {}, 'properties': {}, 'id': None, 'Resource__source_path': None, 'base_path': None, 'creation_context': None, 'serialize': <msrest.serialization.Serializer object at 0x000001D0AA202A30>, 'allowed_keys': {}, 'key_restriction': False, 'logger': <Logger attr_dict (WARNING)>, 'display_name': None, 'experiment_name': None, 'compute': None, 'services': None, 'job_inputs': {'predictions': '${{parent.jobs.predict_with_sample_data.outputs.predictions}}', 'model': '${{parent.jobs.train_with_sample_data.outputs.model_output}}'}, 'job_outputs': {'score_report': '${{parent.outputs.pipeline_job_score_report}}'}, 'inputs': {'predictions': <azure.ai.ml.entities._job.pipeline._io.PipelineInputBase object at 0x000001D0AA212070>, 'model': <azure.ai.ml.entities._job.pipeline._io.PipelineInputBase object at 0x000001D0AA212430>}, 'outputs': {'score_report': <azure.ai.ml.entities._job.pipeline._io.PipelineOutputBase object at 0x000001D0AA212460>}, 'component': 'azureml_anonymous:8cfbcd6e-f6ef-4740-987d-795dfe0761df', 'kwargs': {}, 'instance_id': '0a24718b-7aa7-425c-b70c-42b1e2139fef', 'limits': None, 'identity': None, 'distribution': None, 'environment_variables': {}, 'environment': None, 'resources': None, 'swept': False})}, 'job_types': {'command': 5}, 'job_sources': {'REMOTE.WORKSPACE.COMPONENT': 5}}), 'type': 'pipeline', 'status': 'Preparing', 'log_files': None, 'name': 'goofy_camera_r79mbl1hy9', 'description': 'NYC taxi data regression example.', 'tags': {}, 'properties': {'mlflow.source.git.repoURL': 'https://github.com/Azure/azureml-examples.git', 'mlflow.source.git.branch': 'lochen/model-pipeline-sdk', 'mlflow.source.git.commit': 'd44731df8a77dbd5e25f4862227c7330d7047e3a', 'azureml.git.dirty': 'True', 'azureml.DevPlatv2': 'true', 'azureml.runsource': 'azureml.PipelineRun', 'runSource': 'MFE', 'runType': 'HTTP', 'azureml.parameters': '{}', 'azureml.continue_on_step_failure': 'False', 'azureml.continue_on_failed_optional_input': 'True', 'azureml.pipelineComponent': 'pipelinerun'}, 'id': '/subscriptions/6560575d-fa06-4e7d-95fb-f962e74efd7a/resourceGroups/azureml-examples-v2/providers/Microsoft.MachineLearningServices/workspaces/main/jobs/goofy_camera_r79mbl1hy9', 'Resource__source_path': None, 'base_path': 'd:\\\\azureml-examples\\\\sdk\\\\jobs\\\\pipelines\\\\2c_nyc_taxi_data_regression', 'creation_context': <azure.ai.ml._restclient.v2022_02_01_preview.models._models_py3.SystemData object at 0x000001D0AA202DC0>, 'serialize': <msrest.serialization.Serializer object at 0x000001D0A9D355B0>, 'display_name': 'nyc_taxi_data_regression', 'experiment_name': 'pipeline_samples', 'compute': None, 'services': {'Tracking': <azure.ai.ml._restclient.v2022_02_01_preview.models._models_py3.JobService object at 0x000001D0AA2120A0>, 'Studio': <azure.ai.ml._restclient.v2022_02_01_preview.models._models_py3.JobService object at 0x000001D0AA212160>}, 'settings': <azure.ai.ml.entities._job.pipeline.pipeline_job_settings.PipelineJobSettings object at 0x000001D0AA2124C0>, 'identity': None, 'default_code': None, 'default_environment': None})"
      ]
     },
     "execution_count": 7,
     "metadata": {},
     "output_type": "execute_result"
    }
   ],
   "source": [
    "# submit job to workspace\n",
    "pipeline_job = ml_client.jobs.create_or_update(\n",
    "    pipeline_job, experiment_name=\"pipeline_samples\"\n",
    ")\n",
    "pipeline_job"
   ]
  },
  {
   "cell_type": "code",
   "execution_count": null,
   "metadata": {},
   "outputs": [],
   "source": [
    "# Wait until the job completes\n",
    "ml_client.jobs.stream(pipeline_job.name)"
   ]
  },
  {
   "cell_type": "markdown",
   "metadata": {},
   "source": [
    "# Next Steps\n",
    "You can see further examples of running a pipeline job [here](../)"
   ]
  }
 ],
 "metadata": {
  "description": {
   "description": "Build pipeline with components for 5 jobs - prep data, transform data, train model, predict results and evaluate model performance"
  },
  "kernelspec": {
   "display_name": "Python 3.8.12 ('sdk-preview')",
   "language": "python",
   "name": "python3"
  },
  "language_info": {
   "codemirror_mode": {
    "name": "ipython",
    "version": 3
   },
   "file_extension": ".py",
   "mimetype": "text/x-python",
   "name": "python",
   "nbconvert_exporter": "python",
   "pygments_lexer": "ipython3",
   "version": "3.8.12"
  },
  "vscode": {
   "interpreter": {
    "hash": "1324ca334ec51c2d7d081a2ba1becf817802a54f2b6ebeab7f4908360bcde2e0"
   }
  }
 },
 "nbformat": 4,
 "nbformat_minor": 2
}
