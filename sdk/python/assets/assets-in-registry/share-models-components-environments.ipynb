{
 "cells": [
  {
   "cell_type": "markdown",
   "metadata": {},
   "source": [
    "# Share components, environments and models across workspaces\n",
    "\n",
    "This is the companion notebook for the article on sharing components, environments and models across workspaces: https://learn.microsoft.com/en-us/azure/machine-learning/how-to-share-models-pipelines-across-workspaces-with-registries \n",
    "\n",
    "### Prerequisites\n",
    "Review the prerequisites section in the article: https://learn.microsoft.com/en-us/azure/machine-learning/how-to-share-models-pipelines-across-workspaces-with-registries?tabs=python#prerequisites. To summarize, in addition to the Python SDK, you need an AzureML registry and an AzureML workspace in a region that is supported by the workspace.\n",
    "\n",
    "\n",
    "### Scenarios\n",
    "\n",
    "There are two scenarios where you'd want to use the same set of models, components and environments in multiple workspaces:\n",
    "\n",
    "* Cross-workspace MLOps: You're training a model in a dev workspace and need to deploy it to test and prod workspaces. In this case you, want to have end-to-end lineage between endpoints to which the model is deployed in test or prod workspaces and the training job, metrics, code, data and environment that was used to train the model in the dev workspace.\n",
    "* Share and reuse models and pipelines across different teams: Sharing and reuse improve collaboration and productivity. In this scenario, you may want to publish a trained model and the associated components and environments used to train it to a central catalog. From there, colleagues from other teams can search and reuse the assets you shared in their own experiments.\n",
    "\n",
    "### Goals\n",
    "* Create an environment and component in the registry.\n",
    "* Use the component from registry to submit a model training job in a workspace.\n",
    "* Register the trained model in the registry.\n",
    "* Deploy the model from the registry to an online-endpoint in the workspace, then submit an inference request.\n"
   ]
  },
  {
   "cell_type": "code",
   "execution_count": 1,
   "metadata": {},
   "outputs": [
    {
     "name": "stderr",
     "output_type": "stream",
     "text": [
      "Class SystemCreatedStorageAccount: This is an experimental class, and may change at any time. Please see https://aka.ms/azuremlexperimental for more information.\n",
      "Class SystemCreatedAcrAccount: This is an experimental class, and may change at any time. Please see https://aka.ms/azuremlexperimental for more information.\n"
     ]
    },
    {
     "name": "stdout",
     "output_type": "stream",
     "text": [
      "Name: azure-ai-ml\n",
      "Version: 1.0.0\n",
      "Summary: Microsoft Azure Machine Learning Client Library for Python\n",
      "Home-page: https://github.com/Azure/azure-sdk-for-python\n",
      "Author: Microsoft Corporation\n",
      "Author-email: azuresdkengsysadmins@microsoft.com\n",
      "License: MIT License\n",
      "Location: /root/miniconda3/lib/python3.8/site-packages\n",
      "Requires: typing-extensions, azure-common, strictyaml, pydash, pyyaml, azure-storage-file-share, isodate, azure-core, marshmallow, tqdm, colorama, msrest, azure-mgmt-core, jsonschema, pyjwt, azure-storage-blob, azure-storage-file-datalake\n",
      "Required-by: \n"
     ]
    }
   ],
   "source": [
    "# Import required libraries\n",
    "from azure.identity import DefaultAzureCredential, InteractiveBrowserCredential\n",
    "\n",
    "from azure.ai.ml import MLClient, Input, Output\n",
    "from azure.ai.ml.dsl import pipeline\n",
    "from azure.ai.ml import load_component\n",
    "from azure.ai.ml.entities import (\n",
    "    Environment,\n",
    "    BuildContext,\n",
    "    Model,\n",
    "    ManagedOnlineEndpoint,\n",
    "    ManagedOnlineDeployment,\n",
    "    CodeConfiguration,\n",
    ")\n",
    "from azure.ai.ml.constants import AssetTypes\n",
    "import time, datetime, os\n",
    "\n",
    "# print the sdk version - you many want to share this in the issue you will report if parts of this notebook don't work\n",
    "!pip show azure-ai-ml"
   ]
  },
  {
   "cell_type": "markdown",
   "metadata": {},
   "source": [
    "### Setup authentication\n",
    "\n",
    "We are using `DefaultAzureCredential` to get access to workspace. When an access token is needed, it requests one using multiple identities(`EnvironmentCredential, ManagedIdentityCredential, SharedTokenCacheCredential, VisualStudioCodeCredential, AzureCliCredential, AzurePowerShellCredential`) in turn, stopping when one provides a token.\n",
    "Reference [here](https://docs.microsoft.com/en-us/python/api/azure-identity/azure.identity.defaultazurecredential?view=azure-python) for more information.\n",
    "\n",
    "`DefaultAzureCredential` should be capable of handling most Azure SDK authentication scenarios. \n",
    "Reference [here](https://docs.microsoft.com/en-us/python/api/azure-identity/azure.identity?view=azure-python) for all available credentials if it does not work for you.  "
   ]
  },
  {
   "cell_type": "code",
   "execution_count": 2,
   "metadata": {},
   "outputs": [],
   "source": [
    "try:\n",
    "    credential = DefaultAzureCredential()\n",
    "    # Check if given credential can get token successfully.\n",
    "    credential.get_token(\"https://management.azure.com/.default\")\n",
    "except Exception as ex:\n",
    "    # Fall back to InteractiveBrowserCredential in case DefaultAzureCredential not work\n",
    "    credential = InteractiveBrowserCredential()"
   ]
  },
  {
   "cell_type": "markdown",
   "metadata": {},
   "source": [
    "## Connect to a workspace and registry\n",
    "\n",
    "Most samples create one client to connect to the workspace. However, in this sample, you need two clients. First client, called `ml_client_workspace_dev`, will be used to connect to a workspace and run jobs or deploy endpoints. Second client, called `ml_client_registry` will be used to connect to the registry to create components, environments and models.\n",
    "\n",
    "Replace the following:\n",
    "* `<SUBSCRIPTION_ID>`\n",
    "* `<RESOURCE_GROUP>`\n",
    "* `<AML_WORKSPACE_NAME>`\n",
    "* `<REGISTRY_NAME>`\n",
    " "
   ]
  },
  {
   "cell_type": "code",
   "execution_count": 3,
   "metadata": {},
   "outputs": [
    {
     "name": "stderr",
     "output_type": "stream",
     "text": [
      "Class RegistryOperations: This is an experimental class, and may change at any time. Please see https://aka.ms/azuremlexperimental for more information.\n"
     ]
    },
    {
     "name": "stdout",
     "output_type": "stream",
     "text": [
      "MLClient(credential=<azure.identity._credentials.default.DefaultAzureCredential object at 0x7f7aa01e57c0>,\n",
      "         subscription_id=59032f82-256a-462d-a725-92fcf3858502,\n",
      "         resource_group_name=registries,\n",
      "         workspace_name=ContosoMLDev)\n",
      "MLClient(credential=<azure.identity._credentials.default.DefaultAzureCredential object at 0x7f7aa01e57c0>,\n",
      "         subscription_id=59032f82-256a-462d-a725-92fcf3858502,\n",
      "         resource_group_name=registries,\n",
      "         workspace_name=ContosoMLProd)\n",
      "MLClient(credential=<azure.identity._credentials.default.DefaultAzureCredential object at 0x7f7aa01e57c0>,\n",
      "         subscription_id=59032f82-256a-462d-a725-92fcf3858502,\n",
      "         resource_group_name=registries,\n",
      "         workspace_name=None)\n"
     ]
    }
   ],
   "source": [
    "ml_client_workspace_dev = MLClient(\n",
    "    credential=credential,\n",
    "    subscription_id=\"59032f82-256a-462d-a725-92fcf3858502\",\n",
    "    resource_group_name=\"registries\",\n",
    "    workspace_name=\"ContosoMLDev\",\n",
    ")\n",
    "print(ml_client_workspace_dev)\n",
    "\n",
    "ml_client_workspace_prod = MLClient(\n",
    "    credential=credential,\n",
    "    subscription_id=\"59032f82-256a-462d-a725-92fcf3858502\",\n",
    "    resource_group_name=\"registries\",\n",
    "    workspace_name=\"ContosoMLProd\",\n",
    ")\n",
    "print(ml_client_workspace_prod)\n",
    "\n",
    "ml_client_registry = MLClient(credential=credential, registry_name=\"ContosoMLRegistry\")\n",
    "print(ml_client_registry)"
   ]
  },
  {
   "cell_type": "markdown",
   "metadata": {},
   "source": [
    "### Create a version number and setup root directory \n",
    "Make sure that you set the version number to something unique if this notebook has been run before. You can use the timestamp to generate a unique version number, the sample code for which is commented out. This will prevent any name and version conflicts when creating assets.\n",
    "\n",
    "Set the root directory in which the YAML definitions of the components, environments, etc. are present."
   ]
  },
  {
   "cell_type": "code",
   "execution_count": 4,
   "metadata": {},
   "outputs": [
    {
     "name": "stdout",
     "output_type": "stream",
     "text": [
      "version:  1667421519\n"
     ]
    }
   ],
   "source": [
    "import time\n",
    "import sys\n",
    "\n",
    "# version = str(123456)\n",
    "version = str(int(time.time()))\n",
    "print(\"version: \", version)\n",
    "\n",
    "parent_dir = os.path.abspath(\n",
    "    os.path.join(\n",
    "        sys.path[0],\n",
    "        \"../../../../cli/jobs/pipelines-with-components/nyc_taxi_data_regression\",\n",
    "    )\n",
    ")"
   ]
  },
  {
   "cell_type": "markdown",
   "metadata": {},
   "source": [
    "### Create environment in registry\n",
    "\n",
    "You will use a docker file to create the environment. The docker file has base python image and few python dependencies required to run Scikit Learn training jobs. This notebook: [../environment/environment.ipynb](../environment/environment.ipynb)has more samples for environment create.\n",
    "\n",
    "Note that we use the `ml_client_registry` client because we plan to create the environment in registry. The syntax for creating environment in a workspace or registry are identical. You just use a client that is specific to the target - workspace or registry."
   ]
  },
  {
   "cell_type": "code",
   "execution_count": 5,
   "metadata": {},
   "outputs": [
    {
     "name": "stderr",
     "output_type": "stream",
     "text": [
      "\u001b[32mUploading env_train (0.0 MBs): 100%|██████████| 491/491 [00:00<00:00, 8210.85it/s]\n",
      "\u001b[39m\n",
      "\n"
     ]
    },
    {
     "data": {
      "text/plain": [
       "Environment({'is_anonymous': False, 'auto_increment_version': False, 'name': 'SKLearnEnv', 'description': 'Scikit Learn environment', 'tags': {}, 'properties': {}, 'id': 'azureml://registries/ContosoMLRegistry/environments/SKLearnEnv/versions/1667421519', 'Resource__source_path': None, 'base_path': '/mnt/c/CODE/REPOS/azureml-examples/sdk/python/assets/assets-in-registry', 'creation_context': <azure.ai.ml.entities._system_data.SystemData object at 0x7f7a8982d1c0>, 'serialize': <msrest.serialization.Serializer object at 0x7f7a89785670>, 'version': '1667421519', 'latest_version': None, 'conda_file': None, 'image': 'conto91e1ad98361c467b8de.azurecr.io/sklearnenv_1667421519_97869441-2af7-5f8c-8f3c-bd15c3fa2dce', 'build': None, 'inference_config': None, 'os_type': 'Linux', 'arm_type': 'environment_version', 'conda_file_path': None, 'path': None, 'datastore': None, 'upload_hash': None, 'translated_conda_file': None})"
      ]
     },
     "execution_count": 5,
     "metadata": {},
     "output_type": "execute_result"
    }
   ],
   "source": [
    "env_docker_context = Environment(\n",
    "    build=BuildContext(path=os.path.join(parent_dir, \"env_train\")),\n",
    "    name=\"SKLearnEnv\",\n",
    "    version=version,\n",
    "    description=\"Scikit Learn environment\",\n",
    ")\n",
    "ml_client_registry.environments.create_or_update(env_docker_context)"
   ]
  },
  {
   "cell_type": "markdown",
   "metadata": {},
   "source": [
    "### Get environment from registry\n",
    "\n",
    "Get the environment using the `ml_client_registry` client. The syntax for getting environment in a workspace or registry are identical. You just use a client that is specific to the target - workspace or registry.\n",
    "\n",
    "You will use this environment in the next step to create a component in the registry."
   ]
  },
  {
   "cell_type": "code",
   "execution_count": 6,
   "metadata": {},
   "outputs": [
    {
     "name": "stdout",
     "output_type": "stream",
     "text": [
      "Environment({'is_anonymous': False, 'auto_increment_version': False, 'name': 'SKLearnEnv', 'description': 'Scikit Learn environment', 'tags': {}, 'properties': {}, 'id': 'azureml://registries/ContosoMLRegistry/environments/SKLearnEnv/versions/1667421519', 'Resource__source_path': None, 'base_path': '/mnt/c/CODE/REPOS/azureml-examples/sdk/python/assets/assets-in-registry', 'creation_context': <azure.ai.ml.entities._system_data.SystemData object at 0x7f7a8981db50>, 'serialize': <msrest.serialization.Serializer object at 0x7f7aa0cfeb50>, 'version': '1667421519', 'latest_version': None, 'conda_file': None, 'image': 'conto91e1ad98361c467b8de.azurecr.io/sklearnenv_1667421519_97869441-2af7-5f8c-8f3c-bd15c3fa2dce', 'build': None, 'inference_config': None, 'os_type': 'Linux', 'arm_type': 'environment_version', 'conda_file_path': None, 'path': None, 'datastore': None, 'upload_hash': None, 'translated_conda_file': None})\n"
     ]
    }
   ],
   "source": [
    "env_from_registry = ml_client_registry.environments.get(\n",
    "    name=\"SKLearnEnv\", version=version\n",
    ")\n",
    "print(env_from_registry)"
   ]
  },
  {
   "cell_type": "markdown",
   "metadata": {},
   "source": [
    "### Create component in registry\n",
    "\n",
    "You will use the [`train.yml`](../../../cli/jobs/pipelines-with-components/nyc_taxi_data_regression/train.yml) component YAML defined in `cli/jobs/pipelines-with-components/nyc_taxi_data_regression` for this. This component runs a Scikit Learn training python script. The `train.yml` refers to the AzureML curated environment for the Scikit Learn framework: `AzureML-sklearn-0.24-ubuntu18`, but you will over ride this to use the Scikit Learn environment you created in the previous step.\n",
    "\n",
    "A similar sample notebook shows how to create these components in workspaces instead of registry, in which case you can use those components only in the specific workspace: https://github.com/Azure/azureml-examples/blob/main/sdk/jobs/pipelines/1e_pipeline_with_registered_components/pipeline_with_registered_components.ipynb\n",
    "\n",
    "\n",
    "Use the `ml_client_registry` client to create the component in the registry. The syntax for creating component in a workspace or registry are identical. You just use a client that is specific to the target - workspace or registry."
   ]
  },
  {
   "cell_type": "code",
   "execution_count": 7,
   "metadata": {},
   "outputs": [
    {
     "name": "stderr",
     "output_type": "stream",
     "text": [
      "Warning: the provided asset name 'SKLearnEnv' will not be used for anonymous registration\n"
     ]
    },
    {
     "name": "stdout",
     "output_type": "stream",
     "text": [
      "/mnt/c/CODE/REPOS/azureml-examples/cli/jobs/pipelines-with-components/nyc_taxi_data_regression\n",
      "$schema: https://azuremlschemas.azureedge.net/latest/commandComponent.schema.json\n",
      "name: train_linear_regression_model\n",
      "version: '1'\n",
      "display_name: TrainLinearRegressionModel\n",
      "type: command\n",
      "inputs:\n",
      "  training_data:\n",
      "    type: uri_folder\n",
      "  test_split_ratio:\n",
      "    type: number\n",
      "    default: '0.2'\n",
      "    max: '1.0'\n",
      "    min: '0.0'\n",
      "outputs:\n",
      "  model_output:\n",
      "    type: mlflow_model\n",
      "  test_data:\n",
      "    type: uri_folder\n",
      "command: python train.py  --training_data ${{inputs.training_data}}  --test_data ${{outputs.test_data}}  --model_output\n",
      "  ${{outputs.model_output}} --test_split_ratio ${{inputs.test_split_ratio}}\n",
      "environment: azureml:AzureML-sklearn-0.24-ubuntu18.04-py37-cpu@latest\n",
      "code: ./train_src\n",
      "is_deterministic: true\n",
      "tags: {}\n",
      "\n",
      "$schema: https://azuremlschemas.azureedge.net/latest/commandComponent.schema.json\n",
      "name: train_linear_regression_model\n",
      "version: '1667421519'\n",
      "display_name: TrainLinearRegressionModel\n",
      "type: command\n",
      "inputs:\n",
      "  training_data:\n",
      "    type: uri_folder\n",
      "  test_split_ratio:\n",
      "    type: number\n",
      "    default: '0.2'\n",
      "    max: '1.0'\n",
      "    min: '0.0'\n",
      "outputs:\n",
      "  model_output:\n",
      "    type: mlflow_model\n",
      "  test_data:\n",
      "    type: uri_folder\n",
      "command: python train.py  --training_data ${{inputs.training_data}}  --test_data ${{outputs.test_data}}  --model_output\n",
      "  ${{outputs.model_output}} --test_split_ratio ${{inputs.test_split_ratio}}\n",
      "environment:\n",
      "  name: SKLearnEnv\n",
      "  id: azureml://registries/ContosoMLRegistry/environments/SKLearnEnv/versions/1667421519\n",
      "  description: Scikit Learn environment\n",
      "  tags: {}\n",
      "  version: '1667421519'\n",
      "  creation_context:\n",
      "    created_at: '2022-11-02T20:41:49.956916+00:00'\n",
      "    created_by: Manoj Bableshwar\n",
      "    created_by_type: User\n",
      "    last_modified_at: '2022-11-02T20:41:49.956916+00:00'\n",
      "    last_modified_by: Manoj Bableshwar\n",
      "    last_modified_by_type: User\n",
      "  image: conto91e1ad98361c467b8de.azurecr.io/sklearnenv_1667421519_97869441-2af7-5f8c-8f3c-bd15c3fa2dce\n",
      "  os_type: linux\n",
      "code: ./train_src\n",
      "is_deterministic: true\n",
      "tags: {}\n",
      "\n"
     ]
    },
    {
     "name": "stderr",
     "output_type": "stream",
     "text": [
      "\u001b[32mUploading train_src (0.0 MBs): 100%|██████████| 2521/2521 [00:00<00:00, 50075.49it/s]\n",
      "\u001b[39m\n",
      "\n",
      "Creating/updating registry component train_linear_regression_model with version 1667421519 "
     ]
    },
    {
     "name": "stdout",
     "output_type": "stream",
     "text": [
      "."
     ]
    },
    {
     "name": "stderr",
     "output_type": "stream",
     "text": [
      "Done (0m 6s)\n"
     ]
    },
    {
     "data": {
      "text/plain": [
       "CommandComponent({'auto_increment_version': False, 'source': 'REMOTE.REGISTRY', 'is_anonymous': False, 'name': 'train_linear_regression_model', 'description': None, 'tags': {}, 'properties': {}, 'id': 'azureml://registries/ContosoMLRegistry/components/train_linear_regression_model/versions/1667421519', 'Resource__source_path': None, 'base_path': './', 'creation_context': <azure.ai.ml._restclient.v2021_10_01_dataplanepreview.models._models_py3.SystemData object at 0x7f7a886c6af0>, 'serialize': <msrest.serialization.Serializer object at 0x7f7a886c69a0>, 'command': 'python train.py  --training_data ${{inputs.training_data}}  --test_data ${{outputs.test_data}}  --model_output ${{outputs.model_output}} --test_split_ratio ${{inputs.test_split_ratio}}', 'code': 'azureml://registries/ContosoMLRegistry/codes/80b032fd-1989-4aef-9010-d18d614bcde0/versions/1', 'environment_variables': None, 'environment': 'azureml://registries/ContosoMLRegistry/environments/SKLearnEnv/versions/1667421519', 'distribution': None, 'resources': {'instance_count': 1}, 'version': '1667421519', 'latest_version': None, 'schema': 'https://azuremlschemas.azureedge.net/latest/commandComponent.schema.json', 'type': 'command', 'display_name': 'TrainLinearRegressionModel', 'is_deterministic': True, 'inputs': {'training_data': {'type': 'uri_folder'}, 'test_split_ratio': {'type': 'number', 'default': 0.2, 'min': 0.0, 'max': 1.0}}, 'outputs': {'model_output': {'type': 'mlflow_model'}, 'test_data': {'type': 'uri_folder'}}, 'yaml_str': None, 'other_parameter': {}})"
      ]
     },
     "execution_count": 7,
     "metadata": {},
     "output_type": "execute_result"
    }
   ],
   "source": [
    "# load component definition from YAML\n",
    "print(parent_dir)\n",
    "train_model = load_component(source=os.path.join(parent_dir, \"train.yml\"))\n",
    "# print the component as yaml\n",
    "print(train_model)\n",
    "\n",
    "# change environment reference to the environment created in registry\n",
    "train_model.environment = env_from_registry\n",
    "\n",
    "# changing the version number is optional, but useful if a component with same name and version already exist in registry\n",
    "train_model.version = version\n",
    "\n",
    "print(train_model)\n",
    "ml_client_registry.components.create_or_update(train_model)"
   ]
  },
  {
   "cell_type": "markdown",
   "metadata": {},
   "source": [
    "### Get component from Registry\n",
    "\n",
    "Get the component using the `ml_client_registry` client. The syntax for getting component from a workspace or registry are identical. You just use a client that is specific to the target - workspace or registry.\n",
    "\n",
    "You will use this component in the next step to run a pipeline job to train a model."
   ]
  },
  {
   "cell_type": "code",
   "execution_count": 8,
   "metadata": {},
   "outputs": [
    {
     "name": "stdout",
     "output_type": "stream",
     "text": [
      "$schema: https://azuremlschemas.azureedge.net/latest/commandComponent.schema.json\n",
      "name: train_linear_regression_model\n",
      "version: '1667421519'\n",
      "display_name: TrainLinearRegressionModel\n",
      "type: command\n",
      "inputs:\n",
      "  training_data:\n",
      "    type: uri_folder\n",
      "  test_split_ratio:\n",
      "    type: number\n",
      "    default: '0.2'\n",
      "    max: '1.0'\n",
      "    min: '0.0'\n",
      "outputs:\n",
      "  model_output:\n",
      "    type: mlflow_model\n",
      "  test_data:\n",
      "    type: uri_folder\n",
      "command: python train.py  --training_data ${{inputs.training_data}}  --test_data ${{outputs.test_data}}  --model_output\n",
      "  ${{outputs.model_output}} --test_split_ratio ${{inputs.test_split_ratio}}\n",
      "environment: azureml://registries/ContosoMLRegistry/environments/SKLearnEnv/versions/1667421519\n",
      "code: azureml://registries/ContosoMLRegistry/codes/80b032fd-1989-4aef-9010-d18d614bcde0/versions/1\n",
      "resources:\n",
      "  instance_count: 1\n",
      "creation_context:\n",
      "  created_at: '2022-11-02T20:42:51.763294+00:00'\n",
      "  created_by: Manoj Bableshwar\n",
      "  created_by_type: User\n",
      "  last_modified_at: '2022-11-02T20:42:51.763294+00:00'\n",
      "  last_modified_by: Manoj Bableshwar\n",
      "  last_modified_by_type: User\n",
      "is_deterministic: true\n",
      "tags: {}\n",
      "id: azureml://registries/ContosoMLRegistry/components/train_linear_regression_model/versions/1667421519\n",
      "\n"
     ]
    }
   ],
   "source": [
    "train_component_from_registry = ml_client_registry.components.get(\n",
    "    name=\"train_linear_regression_model\", version=version\n",
    ")\n",
    "print(train_component_from_registry)"
   ]
  },
  {
   "cell_type": "markdown",
   "metadata": {},
   "source": [
    "### Create a pipeline job using component from registry\n",
    "\n",
    "Review this page to learn how to use pipelines and components: https://github.com/Azure/azureml-examples/tree/main/sdk/python/jobs/pipelines. \n",
    "\n",
    "You will create a pipeline job that uses the training component created in the previous step using the Python DSL for pipelines. \n",
    "\n",
    "Make sure your workspace has a compute with the name `cpu-cluster` or update the compute name here: `pipeline_job.settings.default_compute = `"
   ]
  },
  {
   "cell_type": "code",
   "execution_count": 9,
   "metadata": {},
   "outputs": [
    {
     "name": "stdout",
     "output_type": "stream",
     "text": [
      "display_name: pipeline_with_registered_components\n",
      "type: pipeline\n",
      "inputs:\n",
      "  training_data:\n",
      "    type: uri_folder\n",
      "    path: azureml:/mnt/c/CODE/REPOS/azureml-examples/cli/jobs/pipelines-with-components/nyc_taxi_data_regression/data_transformed/\n",
      "outputs: {}\n",
      "jobs:\n",
      "  train_job:\n",
      "    type: command\n",
      "    inputs:\n",
      "      training_data:\n",
      "        path: ${{parent.inputs.training_data}}\n",
      "    outputs: {}\n",
      "    code: azureml://registries/ContosoMLRegistry/codes/80b032fd-1989-4aef-9010-d18d614bcde0/versions/1\n",
      "    resources:\n",
      "      instance_count: 1\n",
      "      properties: {}\n",
      "    component:\n",
      "      $schema: https://azuremlschemas.azureedge.net/latest/commandComponent.schema.json\n",
      "      name: train_linear_regression_model\n",
      "      version: '1667421519'\n",
      "      display_name: TrainLinearRegressionModel\n",
      "      type: command\n",
      "      inputs:\n",
      "        training_data:\n",
      "          type: uri_folder\n",
      "        test_split_ratio:\n",
      "          type: number\n",
      "          default: '0.2'\n",
      "          max: '1.0'\n",
      "          min: '0.0'\n",
      "      outputs:\n",
      "        model_output:\n",
      "          type: mlflow_model\n",
      "        test_data:\n",
      "          type: uri_folder\n",
      "      command: python train.py  --training_data ${{inputs.training_data}}  --test_data\n",
      "        ${{outputs.test_data}}  --model_output ${{outputs.model_output}} --test_split_ratio\n",
      "        ${{inputs.test_split_ratio}}\n",
      "      environment: azureml://registries/ContosoMLRegistry/environments/SKLearnEnv/versions/1667421519\n",
      "      code: azureml://registries/ContosoMLRegistry/codes/80b032fd-1989-4aef-9010-d18d614bcde0/versions/1\n",
      "      resources:\n",
      "        instance_count: 1\n",
      "      creation_context:\n",
      "        created_at: '2022-11-02T20:42:51.763294+00:00'\n",
      "        created_by: Manoj Bableshwar\n",
      "        created_by_type: User\n",
      "        last_modified_at: '2022-11-02T20:42:51.763294+00:00'\n",
      "        last_modified_by: Manoj Bableshwar\n",
      "        last_modified_by_type: User\n",
      "      is_deterministic: true\n",
      "      tags: {}\n",
      "      id: azureml://registries/ContosoMLRegistry/components/train_linear_regression_model/versions/1667421519\n",
      "    properties: {}\n",
      "    environment_variables: {}\n",
      "tags: {}\n",
      "properties: {}\n",
      "settings:\n",
      "  default_compute: azureml:cpu-cluster\n",
      "\n"
     ]
    }
   ],
   "source": [
    "@pipeline()\n",
    "def pipeline_with_registered_components(training_data):\n",
    "    train_job = train_component_from_registry(\n",
    "        training_data=training_data,\n",
    "    )\n",
    "\n",
    "\n",
    "pipeline_job = pipeline_with_registered_components(\n",
    "    training_data=Input(type=\"uri_folder\", path=parent_dir + \"/data_transformed/\"),\n",
    ")\n",
    "pipeline_job.settings.default_compute = \"cpu-cluster\"\n",
    "print(pipeline_job)"
   ]
  },
  {
   "cell_type": "markdown",
   "metadata": {},
   "source": [
    "### Run pipeline job using a component from registry\n",
    "\n",
    "Submit pipeline job and wait for it to complete. Notice that you are using the workspace client: `ml_client_workspace_dev` to run the pipeline job. This job is running a component that is not available in your workspace but is coming from a registry. This way, you can run this job in any workspace you have access to. This is useful when you want to develop a pipeline in th `dev` workspace with some sample data and run the pipeline in the `prod` workspace with actual data. This is also helpful if you want to share the components you develop with other teams in your organization who may be using a different workspace. \n",
    "To summarize, you can submit this job to different workspaces such as `dev`, `test` or `prod` by creating different ML clients for each of those workspaces."
   ]
  },
  {
   "cell_type": "code",
   "execution_count": 10,
   "metadata": {},
   "outputs": [
    {
     "name": "stderr",
     "output_type": "stream",
     "text": [
      "\u001b[32mUploading data_transformed (1.26 MBs): 100%|██████████| 1257088/1257088 [00:00<00:00, 3600190.93it/s]\n",
      "\u001b[39m\n",
      "\n"
     ]
    },
    {
     "name": "stdout",
     "output_type": "stream",
     "text": [
      "RunId: mango_fig_jggff1cp33\n",
      "Web View: https://ml.azure.com/runs/mango_fig_jggff1cp33?wsid=/subscriptions/59032f82-256a-462d-a725-92fcf3858502/resourcegroups/registries/workspaces/ContosoMLDev\n",
      "\n",
      "Streaming logs/azureml/executionlogs.txt\n",
      "========================================\n",
      "\n",
      "[2022-11-02 20:43:08Z] Submitting 1 runs, first five are: 5961d2d3:801ecf9a-e52a-4129-b19f-3abed69a2383\n",
      "[2022-11-02 20:45:06Z] Completing processing run id 801ecf9a-e52a-4129-b19f-3abed69a2383.\n",
      "\n",
      "Execution Summary\n",
      "=================\n",
      "RunId: mango_fig_jggff1cp33\n",
      "Web View: https://ml.azure.com/runs/mango_fig_jggff1cp33?wsid=/subscriptions/59032f82-256a-462d-a725-92fcf3858502/resourcegroups/registries/workspaces/ContosoMLDev\n",
      "\n"
     ]
    },
    {
     "data": {
      "text/html": [
       "<table style=\"width:100%\"><tr><th>Experiment</th><th>Name</th><th>Type</th><th>Status</th><th>Details Page</th></tr><tr><td>sdk_job_component_from_registry</td><td>mango_fig_jggff1cp33</td><td>pipeline</td><td>Completed</td><td><a href=\"https://ml.azure.com/runs/mango_fig_jggff1cp33?wsid=/subscriptions/59032f82-256a-462d-a725-92fcf3858502/resourcegroups/registries/workspaces/ContosoMLDev&amp;tid=b44d07d7-b9ef-4005-ae99-281a18257d93\" target=\"_blank\" rel=\"noopener\">Link to Azure Machine Learning studio</a></td></tr></table>"
      ],
      "text/plain": [
       "PipelineJob({'inputs': {'training_data': <azure.ai.ml.entities._job.pipeline._io.PipelineInput object at 0x7f7a885bbd00>}, 'outputs': {}, 'jobs': {}, 'component': PipelineComponent({'auto_increment_version': False, 'source': 'REMOTE.WORKSPACE.JOB', 'is_anonymous': True, 'name': 'azureml_anonymous', 'description': None, 'tags': {}, 'properties': {}, 'id': None, 'Resource__source_path': None, 'base_path': None, 'creation_context': None, 'serialize': <msrest.serialization.Serializer object at 0x7f7a8864c7c0>, 'version': '1', 'latest_version': None, 'schema': None, 'type': 'pipeline', 'display_name': 'pipeline_with_registered_components', 'is_deterministic': None, 'inputs': {'training_data': {}}, 'outputs': {}, 'yaml_str': None, 'other_parameter': {}, 'jobs': {'train_job': Command({'parameters': {}, 'init': False, 'type': 'command', 'status': None, 'log_files': None, 'name': 'train_job', 'description': None, 'tags': {}, 'properties': {}, 'id': None, 'Resource__source_path': None, 'base_path': None, 'creation_context': None, 'serialize': <msrest.serialization.Serializer object at 0x7f7a885aac10>, 'allowed_keys': {}, 'key_restriction': False, 'logger': <Logger attr_dict (WARNING)>, 'display_name': None, 'experiment_name': None, 'compute': None, 'services': None, 'comment': None, 'job_inputs': {'training_data': '${{parent.inputs.training_data}}'}, 'job_outputs': {}, 'inputs': {'training_data': <azure.ai.ml.entities._job.pipeline._io.NodeInput object at 0x7f7a885bb430>}, 'outputs': {}, 'component': 'azureml://registries/ContosoMLRegistry/components/train_linear_regression_model/versions/1667421519', 'referenced_control_flow_node_instance_id': None, 'kwargs': {'services': None}, 'instance_id': '87d1499d-6970-416f-b33c-64cac2755722', 'source': 'REMOTE.REGISTRY', 'limits': None, 'identity': None, 'distribution': None, 'environment_variables': {}, 'environment': None, 'resources': {'instance_count': 1}, 'swept': False})}, 'job_types': {'command': 1}, 'job_sources': {'REMOTE.REGISTRY': 1}, 'source_job_id': None}), 'type': 'pipeline', 'status': 'Completed', 'log_files': None, 'name': 'mango_fig_jggff1cp33', 'description': None, 'tags': {}, 'properties': {'mlflow.source.git.repoURL': 'https://github.com/Azure/azureml-examples.git', 'mlflow.source.git.branch': 'mabables/multi-ws-mlops', 'mlflow.source.git.commit': 'c82378ad38127aef7397f379162bec6ea03aba26', 'azureml.git.dirty': 'True', 'azureml.DevPlatv2': 'true', 'azureml.runsource': 'azureml.PipelineRun', 'runSource': 'MFE', 'runType': 'HTTP', 'azureml.parameters': '{}', 'azureml.continue_on_step_failure': 'False', 'azureml.continue_on_failed_optional_input': 'True', 'azureml.defaultComputeName': 'cpu-cluster', 'azureml.defaultDataStoreName': 'workspaceblobstore', 'azureml.pipelineComponent': 'pipelinerun', 'stages': '{\"Initialization\":null,\"Execution\":{\"StartTime\":\"2022-11-02T20:43:08.3941444+00:00\",\"EndTime\":\"2022-11-02T20:45:07.5433206+00:00\",\"Status\":\"Finished\"}}'}, 'id': '/subscriptions/59032f82-256a-462d-a725-92fcf3858502/resourceGroups/registries/providers/Microsoft.MachineLearningServices/workspaces/ContosoMLDev/jobs/mango_fig_jggff1cp33', 'Resource__source_path': None, 'base_path': '/mnt/c/CODE/REPOS/azureml-examples/sdk/python/assets/assets-in-registry', 'creation_context': <azure.ai.ml.entities._system_data.SystemData object at 0x7f7a885bbb50>, 'serialize': <msrest.serialization.Serializer object at 0x7f7a885bbdc0>, 'display_name': 'pipeline_with_registered_components', 'experiment_name': 'sdk_job_component_from_registry', 'compute': None, 'services': {'Tracking': <azure.ai.ml._restclient.v2022_10_01_preview.models._models_py3.JobService object at 0x7f7a885bb490>, 'Studio': <azure.ai.ml._restclient.v2022_10_01_preview.models._models_py3.JobService object at 0x7f7a885bb790>}, 'settings': {}, 'identity': None, 'default_code': None, 'default_environment': None})"
      ]
     },
     "execution_count": 10,
     "metadata": {},
     "output_type": "execute_result"
    }
   ],
   "source": [
    "pipeline_job = ml_client_workspace_dev.jobs.create_or_update(\n",
    "    pipeline_job,\n",
    "    experiment_name=\"sdk_job_component_from_registry\",\n",
    "    skip_validation=True,\n",
    ")\n",
    "ml_client_workspace_dev.jobs.stream(pipeline_job.name)\n",
    "pipeline_job = ml_client_workspace_dev.jobs.get(pipeline_job.name)\n",
    "pipeline_job"
   ]
  },
  {
   "cell_type": "markdown",
   "metadata": {},
   "source": [
    "### Create model in registry\n",
    "\n",
    "You will now obtain the model trained by the pipeline job in the above step and create the model in the registry. For completeness, we are showing two options here.\n",
    "* First option shows to create a model in registry from job output without downloading it. This option is recommended when you want to track the lineage between the training job and the model. You will create a model directly from the job output (without downloading it) in your workspace and then copy the model from workspace to registry. \n",
    "* Second option shows how to create a model in registry from local files. In this case you will download the model from the job output. This option is helpful if you have an existing model from some external source and want to host it in the registry to be shared with many workspaces.\n",
    "\n",
    "Review this notebook to learn the different model types and how to create them in a workspace: [../../assets/model/model.ipynb](../model/model.ipynb). In the below example, you will work with a `mlflow_model` that will help you deploy this model for inference without writing any scoring scripts."
   ]
  },
  {
   "cell_type": "markdown",
   "metadata": {},
   "source": [
    "### Create model in workspace and copy it to registry\n",
    "\n",
    "Step a: Get the model path from job output. Note that you use the `ml_client_workspace_dev` to get the model path from job output in a workspace."
   ]
  },
  {
   "cell_type": "code",
   "execution_count": 11,
   "metadata": {},
   "outputs": [
    {
     "name": "stdout",
     "output_type": "stream",
     "text": [
      "801ecf9a-e52a-4129-b19f-3abed69a2383\n",
      "azureml://jobs/801ecf9a-e52a-4129-b19f-3abed69a2383/outputs/artifacts/paths/model\n"
     ]
    }
   ],
   "source": [
    "jobs = ml_client_workspace_dev.jobs.list(parent_job_name=pipeline_job.name)\n",
    "for job in jobs:\n",
    "    if job.display_name == \"train_job\":\n",
    "        print(job.name)\n",
    "        model_path_from_job = (\n",
    "            \"azureml://jobs/{job_name}/outputs/artifacts/paths/model\".format(\n",
    "                job_name=job.name\n",
    "            )\n",
    "        )\n",
    "\n",
    "print(model_path_from_job)"
   ]
  },
  {
   "cell_type": "markdown",
   "metadata": {},
   "source": [
    "### Create model in workspace and copy it to registry\n",
    "Step b: Create model in workspace from job output. Note that you use the `ml_client_workspace_dev` to create the model in workspace."
   ]
  },
  {
   "cell_type": "code",
   "execution_count": 12,
   "metadata": {},
   "outputs": [
    {
     "name": "stdout",
     "output_type": "stream",
     "text": [
      "Model({'job_name': None, 'is_anonymous': False, 'auto_increment_version': False, 'name': 'nyc-taxi-model', 'description': 'MLflow model created from job output', 'tags': {}, 'properties': {}, 'id': None, 'Resource__source_path': None, 'base_path': '/mnt/c/CODE/REPOS/azureml-examples/sdk/python/assets/assets-in-registry', 'creation_context': None, 'serialize': <msrest.serialization.Serializer object at 0x7f7a885d1340>, 'version': '1667421519', 'latest_version': None, 'path': 'azureml://jobs/801ecf9a-e52a-4129-b19f-3abed69a2383/outputs/artifacts/paths/model', 'datastore': None, 'utc_time_created': None, 'flavors': None, 'arm_type': 'model_version', 'type': 'mlflow_model'})\n"
     ]
    },
    {
     "data": {
      "text/plain": [
       "Model({'job_name': '801ecf9a-e52a-4129-b19f-3abed69a2383', 'is_anonymous': False, 'auto_increment_version': False, 'name': 'nyc-taxi-model', 'description': 'MLflow model created from job output', 'tags': {}, 'properties': {}, 'id': '/subscriptions/59032f82-256a-462d-a725-92fcf3858502/resourceGroups/registries/providers/Microsoft.MachineLearningServices/workspaces/ContosoMLDev/models/nyc-taxi-model/versions/1667421519', 'Resource__source_path': None, 'base_path': '/mnt/c/CODE/REPOS/azureml-examples/sdk/python/assets/assets-in-registry', 'creation_context': <azure.ai.ml.entities._system_data.SystemData object at 0x7f7a88697fd0>, 'serialize': <msrest.serialization.Serializer object at 0x7f7a88642130>, 'version': '1667421519', 'latest_version': None, 'path': 'azureml://subscriptions/59032f82-256a-462d-a725-92fcf3858502/resourceGroups/registries/workspaces/ContosoMLDev/datastores/workspaceartifactstore/paths/ExperimentRun/dcid.801ecf9a-e52a-4129-b19f-3abed69a2383/model', 'datastore': None, 'utc_time_created': None, 'flavors': {'python_function': {'env': 'conda.yaml', 'loader_module': 'mlflow.sklearn', 'model_path': 'model.pkl', 'predict_fn': 'predict', 'python_version': '3.8.13'}, 'sklearn': {'code': '', 'pickled_model': 'model.pkl', 'serialization_format': 'cloudpickle', 'sklearn_version': '0.24.1'}}, 'arm_type': 'model_version', 'type': 'mlflow_model'})"
      ]
     },
     "execution_count": 12,
     "metadata": {},
     "output_type": "execute_result"
    }
   ],
   "source": [
    "mlflow_model = Model(\n",
    "    path=model_path_from_job,\n",
    "    type=AssetTypes.MLFLOW_MODEL,\n",
    "    name=\"nyc-taxi-model\",\n",
    "    version=version,\n",
    "    description=\"MLflow model created from job output\",\n",
    ")\n",
    "print(mlflow_model)\n",
    "ml_client_workspace_dev.models.create_or_update(mlflow_model)"
   ]
  },
  {
   "cell_type": "markdown",
   "metadata": {},
   "source": [
    "### Create model in workspace and copy it to registry\n",
    "\n",
    "Step c: Get the model from workspace, prepare to copy it to registry and create the model registry using the `model_ready_to_copy` object. Note that you both the clients here: First, `ml_client_workspace_dev` client to get the model from workspace and prepare the `model_ready_to_copy` object. Second, `ml_client_registry` to create the model in registry using the `model_ready_to_copy` object."
   ]
  },
  {
   "cell_type": "code",
   "execution_count": 13,
   "metadata": {},
   "outputs": [
    {
     "name": "stdout",
     "output_type": "stream",
     "text": [
      "workspace model:\n",
      "\n",
      " Model({'job_name': '801ecf9a-e52a-4129-b19f-3abed69a2383', 'is_anonymous': False, 'auto_increment_version': False, 'name': 'nyc-taxi-model', 'description': 'MLflow model created from job output', 'tags': {}, 'properties': {}, 'id': '/subscriptions/59032f82-256a-462d-a725-92fcf3858502/resourceGroups/registries/providers/Microsoft.MachineLearningServices/workspaces/ContosoMLDev/models/nyc-taxi-model/versions/1667421519', 'Resource__source_path': None, 'base_path': '/mnt/c/CODE/REPOS/azureml-examples/sdk/python/assets/assets-in-registry', 'creation_context': <azure.ai.ml.entities._system_data.SystemData object at 0x7f7a886cd790>, 'serialize': <msrest.serialization.Serializer object at 0x7f7a88697340>, 'version': '1667421519', 'latest_version': None, 'path': 'azureml://subscriptions/59032f82-256a-462d-a725-92fcf3858502/resourceGroups/registries/workspaces/ContosoMLDev/datastores/workspaceartifactstore/paths/ExperimentRun/dcid.801ecf9a-e52a-4129-b19f-3abed69a2383/model', 'datastore': None, 'utc_time_created': None, 'flavors': {'python_function': {'env': 'conda.yaml', 'loader_module': 'mlflow.sklearn', 'model_path': 'model.pkl', 'predict_fn': 'predict', 'python_version': '3.8.13'}, 'sklearn': {'code': '', 'pickled_model': 'model.pkl', 'serialization_format': 'cloudpickle', 'sklearn_version': '0.24.1'}}, 'arm_type': 'model_version', 'type': 'mlflow_model'})\n",
      "\n",
      "\n",
      "model ready to copy:\n",
      "\n",
      " WorkspaceModelReference({'is_anonymous': False, 'auto_increment_version': False, 'name': 'nyc-taxi-model', 'description': None, 'tags': {}, 'properties': {}, 'id': None, 'Resource__source_path': None, 'base_path': '/mnt/c/CODE/REPOS/azureml-examples/sdk/python/assets/assets-in-registry', 'creation_context': None, 'serialize': <msrest.serialization.Serializer object at 0x7f7a886cdaf0>, 'version': '1667421519', 'latest_version': None, 'asset_id': 'azureml://locations/westus/workspaces/90ce740a-ddae-49ae-95c2-18bd394d5213/models/nyc-taxi-model/versions/1667421519'})\n"
     ]
    }
   ],
   "source": [
    "# fetch the model from workspace\n",
    "model_in_workspace = ml_client_workspace_dev.models.get(\n",
    "    name=\"nyc-taxi-model\", version=version\n",
    ")\n",
    "print(\"workspace model:\\n\\n\", model_in_workspace)\n",
    "# change the format such that the registry understands the model (when you print the model_ready_to_copy object, notice the asset id\n",
    "model_ready_to_copy = ml_client_workspace_dev.models._prepare_to_copy(model_in_workspace)\n",
    "print(\"\\n\\nmodel ready to copy:\\n\\n\", model_ready_to_copy)\n",
    "# copy the model from registry to workspace\n",
    "ml_client_registry.models.create_or_update(model_ready_to_copy).wait()"
   ]
  },
  {
   "cell_type": "markdown",
   "metadata": {},
   "source": [
    "### Deploy model from registry to online endpoint in workspace\n",
    "\n",
    "You will deploy the model to an online endpoint and submit some sample inference requests in this section. Note that just like jobs, endpoints that host models are specific to a workspace. You can deploy the a model from a registry to many workspaces. This helps you develop a model in `dev` workspace, share it with a registry, and then deploy it to `test` and `prod` workspaces. "
   ]
  },
  {
   "cell_type": "markdown",
   "metadata": {},
   "source": [
    "### Get model from registry\n",
    "\n",
    "Use the `ml_client_registry` client to get the model created in previous section from the registry. The syntax for creating component in a workspace or registry are identical. You just use a client that is specific to the target - workspace or registry."
   ]
  },
  {
   "cell_type": "code",
   "execution_count": 14,
   "metadata": {},
   "outputs": [
    {
     "name": "stdout",
     "output_type": "stream",
     "text": [
      "Model({'job_name': '801ecf9a-e52a-4129-b19f-3abed69a2383', 'is_anonymous': False, 'auto_increment_version': False, 'name': 'nyc-taxi-model', 'description': 'MLflow model created from job output', 'tags': {}, 'properties': {}, 'id': 'azureml://registries/ContosoMLRegistry/models/nyc-taxi-model/versions/1667421519', 'Resource__source_path': None, 'base_path': '/mnt/c/CODE/REPOS/azureml-examples/sdk/python/assets/assets-in-registry', 'creation_context': <azure.ai.ml.entities._system_data.SystemData object at 0x7f7a885bb3a0>, 'serialize': <msrest.serialization.Serializer object at 0x7f7a885bbbe0>, 'version': '1667421519', 'latest_version': None, 'path': 'https://contob50e9c08009542a9a4b.blob.core.windows.net/contosomlr-02c48c36-14be-54e8-8474-8d64686193d7/ExperimentRun/dcid.801ecf9a-e52a-4129-b19f-3abed69a2383/model', 'datastore': None, 'utc_time_created': None, 'flavors': {'python_function': {'env': 'conda.yaml', 'loader_module': 'mlflow.sklearn', 'model_path': 'model.pkl', 'predict_fn': 'predict', 'python_version': '3.8.13'}, 'sklearn': {'code': '', 'pickled_model': 'model.pkl', 'serialization_format': 'cloudpickle', 'sklearn_version': '0.24.1'}}, 'arm_type': 'model_version', 'type': 'mlflow_model'})\n"
     ]
    }
   ],
   "source": [
    "mlflow_model_from_registry = ml_client_registry.models.get(\n",
    "    name=\"nyc-taxi-model\", version=version\n",
    ")\n",
    "print(mlflow_model_from_registry)"
   ]
  },
  {
   "cell_type": "markdown",
   "metadata": {},
   "source": [
    "### Create an online endpoint \n",
    "\n",
    "Create an online endpoint to deploy the model"
   ]
  },
  {
   "cell_type": "code",
   "execution_count": 20,
   "metadata": {},
   "outputs": [
    {
     "ename": "HttpResponseError",
     "evalue": "(None) InternalServerError: Internal error. Please see troubleshooting guide, available here: https://aka.ms/oe-tsg#error-internalservererror\nCode: None\nMessage: InternalServerError: Internal error. Please see troubleshooting guide, available here: https://aka.ms/oe-tsg#error-internalservererror",
     "output_type": "error",
     "traceback": [
      "\u001b[0;31m---------------------------------------------------------------------------\u001b[0m",
      "\u001b[0;31mOperationFailed\u001b[0m                           Traceback (most recent call last)",
      "\u001b[0;32m~/miniconda3/lib/python3.8/site-packages/azure/core/polling/base_polling.py\u001b[0m in \u001b[0;36mrun\u001b[0;34m(self)\u001b[0m\n\u001b[1;32m    516\u001b[0m         \u001b[0;32mtry\u001b[0m\u001b[0;34m:\u001b[0m\u001b[0;34m\u001b[0m\u001b[0;34m\u001b[0m\u001b[0m\n\u001b[0;32m--> 517\u001b[0;31m             \u001b[0mself\u001b[0m\u001b[0;34m.\u001b[0m\u001b[0m_poll\u001b[0m\u001b[0;34m(\u001b[0m\u001b[0;34m)\u001b[0m\u001b[0;34m\u001b[0m\u001b[0;34m\u001b[0m\u001b[0m\n\u001b[0m\u001b[1;32m    518\u001b[0m \u001b[0;34m\u001b[0m\u001b[0m\n",
      "\u001b[0;32m~/miniconda3/lib/python3.8/site-packages/azure/core/polling/base_polling.py\u001b[0m in \u001b[0;36m_poll\u001b[0;34m(self)\u001b[0m\n\u001b[1;32m    555\u001b[0m         \u001b[0;32mif\u001b[0m \u001b[0m_failed\u001b[0m\u001b[0;34m(\u001b[0m\u001b[0mself\u001b[0m\u001b[0;34m.\u001b[0m\u001b[0mstatus\u001b[0m\u001b[0;34m(\u001b[0m\u001b[0;34m)\u001b[0m\u001b[0;34m)\u001b[0m\u001b[0;34m:\u001b[0m\u001b[0;34m\u001b[0m\u001b[0;34m\u001b[0m\u001b[0m\n\u001b[0;32m--> 556\u001b[0;31m             \u001b[0;32mraise\u001b[0m \u001b[0mOperationFailed\u001b[0m\u001b[0;34m(\u001b[0m\u001b[0;34m\"Operation failed or canceled\"\u001b[0m\u001b[0;34m)\u001b[0m\u001b[0;34m\u001b[0m\u001b[0;34m\u001b[0m\u001b[0m\n\u001b[0m\u001b[1;32m    557\u001b[0m \u001b[0;34m\u001b[0m\u001b[0m\n",
      "\u001b[0;31mOperationFailed\u001b[0m: Operation failed or canceled",
      "\nDuring handling of the above exception, another exception occurred:\n",
      "\u001b[0;31mHttpResponseError\u001b[0m                         Traceback (most recent call last)",
      "\u001b[0;32m/tmp/ipykernel_8747/4244614157.py\u001b[0m in \u001b[0;36m<module>\u001b[0;34m\u001b[0m\n\u001b[1;32m      6\u001b[0m     \u001b[0mauth_mode\u001b[0m\u001b[0;34m=\u001b[0m\u001b[0;34m\"key\"\u001b[0m\u001b[0;34m,\u001b[0m\u001b[0;34m\u001b[0m\u001b[0;34m\u001b[0m\u001b[0m\n\u001b[1;32m      7\u001b[0m )\n\u001b[0;32m----> 8\u001b[0;31m \u001b[0mml_client_workspace_prod\u001b[0m\u001b[0;34m.\u001b[0m\u001b[0mbegin_create_or_update\u001b[0m\u001b[0;34m(\u001b[0m\u001b[0mendpoint\u001b[0m\u001b[0;34m)\u001b[0m\u001b[0;34m.\u001b[0m\u001b[0mwait\u001b[0m\u001b[0;34m(\u001b[0m\u001b[0;34m)\u001b[0m\u001b[0;34m\u001b[0m\u001b[0;34m\u001b[0m\u001b[0m\n\u001b[0m",
      "\u001b[0;32m~/miniconda3/lib/python3.8/site-packages/azure/core/tracing/decorator.py\u001b[0m in \u001b[0;36mwrapper_use_tracer\u001b[0;34m(*args, **kwargs)\u001b[0m\n\u001b[1;32m     76\u001b[0m             \u001b[0mspan_impl_type\u001b[0m \u001b[0;34m=\u001b[0m \u001b[0msettings\u001b[0m\u001b[0;34m.\u001b[0m\u001b[0mtracing_implementation\u001b[0m\u001b[0;34m(\u001b[0m\u001b[0;34m)\u001b[0m\u001b[0;34m\u001b[0m\u001b[0;34m\u001b[0m\u001b[0m\n\u001b[1;32m     77\u001b[0m             \u001b[0;32mif\u001b[0m \u001b[0mspan_impl_type\u001b[0m \u001b[0;32mis\u001b[0m \u001b[0;32mNone\u001b[0m\u001b[0;34m:\u001b[0m\u001b[0;34m\u001b[0m\u001b[0;34m\u001b[0m\u001b[0m\n\u001b[0;32m---> 78\u001b[0;31m                 \u001b[0;32mreturn\u001b[0m \u001b[0mfunc\u001b[0m\u001b[0;34m(\u001b[0m\u001b[0;34m*\u001b[0m\u001b[0margs\u001b[0m\u001b[0;34m,\u001b[0m \u001b[0;34m**\u001b[0m\u001b[0mkwargs\u001b[0m\u001b[0;34m)\u001b[0m\u001b[0;34m\u001b[0m\u001b[0;34m\u001b[0m\u001b[0m\n\u001b[0m\u001b[1;32m     79\u001b[0m \u001b[0;34m\u001b[0m\u001b[0m\n\u001b[1;32m     80\u001b[0m             \u001b[0;31m# Merge span is parameter is set, but only if no explicit parent are passed\u001b[0m\u001b[0;34m\u001b[0m\u001b[0;34m\u001b[0m\u001b[0;34m\u001b[0m\u001b[0m\n",
      "\u001b[0;32m~/miniconda3/lib/python3.8/site-packages/azure/core/polling/_poller.py\u001b[0m in \u001b[0;36mwait\u001b[0;34m(self, timeout)\u001b[0m\n\u001b[1;32m    273\u001b[0m             \u001b[0;31m# Let's handle possible None in forgiveness here\u001b[0m\u001b[0;34m\u001b[0m\u001b[0;34m\u001b[0m\u001b[0;34m\u001b[0m\u001b[0m\n\u001b[1;32m    274\u001b[0m             \u001b[0;31m# https://github.com/python/mypy/issues/8165\u001b[0m\u001b[0;34m\u001b[0m\u001b[0;34m\u001b[0m\u001b[0;34m\u001b[0m\u001b[0m\n\u001b[0;32m--> 275\u001b[0;31m             \u001b[0;32mraise\u001b[0m \u001b[0mself\u001b[0m\u001b[0;34m.\u001b[0m\u001b[0m_exception\u001b[0m \u001b[0;31m# type: ignore\u001b[0m\u001b[0;34m\u001b[0m\u001b[0;34m\u001b[0m\u001b[0m\n\u001b[0m\u001b[1;32m    276\u001b[0m         \u001b[0;32mexcept\u001b[0m \u001b[0mTypeError\u001b[0m\u001b[0;34m:\u001b[0m \u001b[0;31m# Was None\u001b[0m\u001b[0;34m\u001b[0m\u001b[0;34m\u001b[0m\u001b[0m\n\u001b[1;32m    277\u001b[0m             \u001b[0;32mpass\u001b[0m\u001b[0;34m\u001b[0m\u001b[0;34m\u001b[0m\u001b[0m\n",
      "\u001b[0;32m~/miniconda3/lib/python3.8/site-packages/azure/core/polling/_poller.py\u001b[0m in \u001b[0;36m_start\u001b[0;34m(self)\u001b[0m\n\u001b[1;32m    190\u001b[0m         \"\"\"\n\u001b[1;32m    191\u001b[0m         \u001b[0;32mtry\u001b[0m\u001b[0;34m:\u001b[0m\u001b[0;34m\u001b[0m\u001b[0;34m\u001b[0m\u001b[0m\n\u001b[0;32m--> 192\u001b[0;31m             \u001b[0mself\u001b[0m\u001b[0;34m.\u001b[0m\u001b[0m_polling_method\u001b[0m\u001b[0;34m.\u001b[0m\u001b[0mrun\u001b[0m\u001b[0;34m(\u001b[0m\u001b[0;34m)\u001b[0m\u001b[0;34m\u001b[0m\u001b[0;34m\u001b[0m\u001b[0m\n\u001b[0m\u001b[1;32m    193\u001b[0m         \u001b[0;32mexcept\u001b[0m \u001b[0mAzureError\u001b[0m \u001b[0;32mas\u001b[0m \u001b[0merror\u001b[0m\u001b[0;34m:\u001b[0m\u001b[0;34m\u001b[0m\u001b[0;34m\u001b[0m\u001b[0m\n\u001b[1;32m    194\u001b[0m             \u001b[0;32mif\u001b[0m \u001b[0;32mnot\u001b[0m \u001b[0merror\u001b[0m\u001b[0;34m.\u001b[0m\u001b[0mcontinuation_token\u001b[0m\u001b[0;34m:\u001b[0m\u001b[0;34m\u001b[0m\u001b[0;34m\u001b[0m\u001b[0m\n",
      "\u001b[0;32m~/miniconda3/lib/python3.8/site-packages/azure/core/polling/base_polling.py\u001b[0m in \u001b[0;36mrun\u001b[0;34m(self)\u001b[0m\n\u001b[1;32m    533\u001b[0m \u001b[0;34m\u001b[0m\u001b[0m\n\u001b[1;32m    534\u001b[0m         \u001b[0;32mexcept\u001b[0m \u001b[0mOperationFailed\u001b[0m \u001b[0;32mas\u001b[0m \u001b[0merr\u001b[0m\u001b[0;34m:\u001b[0m\u001b[0;34m\u001b[0m\u001b[0;34m\u001b[0m\u001b[0m\n\u001b[0;32m--> 535\u001b[0;31m             raise HttpResponseError(\n\u001b[0m\u001b[1;32m    536\u001b[0m                 \u001b[0mresponse\u001b[0m\u001b[0;34m=\u001b[0m\u001b[0mself\u001b[0m\u001b[0;34m.\u001b[0m\u001b[0m_pipeline_response\u001b[0m\u001b[0;34m.\u001b[0m\u001b[0mhttp_response\u001b[0m\u001b[0;34m,\u001b[0m\u001b[0;34m\u001b[0m\u001b[0;34m\u001b[0m\u001b[0m\n\u001b[1;32m    537\u001b[0m                 \u001b[0merror\u001b[0m\u001b[0;34m=\u001b[0m\u001b[0merr\u001b[0m\u001b[0;34m\u001b[0m\u001b[0;34m\u001b[0m\u001b[0m\n",
      "\u001b[0;31mHttpResponseError\u001b[0m: (None) InternalServerError: Internal error. Please see troubleshooting guide, available here: https://aka.ms/oe-tsg#error-internalservererror\nCode: None\nMessage: InternalServerError: Internal error. Please see troubleshooting guide, available here: https://aka.ms/oe-tsg#error-internalservererror"
     ]
    }
   ],
   "source": [
    "online_endpoint_name = \"endpoint-1\" + version\n",
    "# create an online endpoint\n",
    "endpoint = ManagedOnlineEndpoint(\n",
    "    name=online_endpoint_name,\n",
    "    description=\"this is a sample online endpoint for mlflow model\",\n",
    "    auth_mode=\"key\",\n",
    ")\n",
    "ml_client_workspace_prod.begin_create_or_update(endpoint).wait()"
   ]
  },
  {
   "cell_type": "markdown",
   "metadata": {},
   "source": [
    "### Deploy the model from registry to the online endpoint"
   ]
  },
  {
   "cell_type": "code",
   "execution_count": null,
   "metadata": {},
   "outputs": [
    {
     "name": "stderr",
     "output_type": "stream",
     "text": [
      "Check: endpoint endpoint-1667421519 exists\n",
      "data_collector is not a known attribute of class <class 'azure.ai.ml._restclient.v2022_02_01_preview.models._models_py3.ManagedOnlineDeployment'> and will be ignored\n"
     ]
    },
    {
     "ename": "HttpResponseError",
     "evalue": "(BadRequest) The request is invalid.\nCode: BadRequest\nMessage: The request is invalid.\nException Details:\t(InferencingClientCreateDeploymentFailed) InferencingClient HttpRequest error, error detail: {\"errors\":{\"\":[\"This endpoint has not been created successfully. Please recreate endpoint and then try again to create deployment.\"]},\"type\":\"https://tools.ietf.org/html/rfc7231#section-6.5.1\",\"title\":\"One or more validation errors occurred.\",\"status\":400,\"traceId\":\"00-4748b3638adb04b8043851fb6f3dc500-fce74b9cf8e1fc11-00\"}\n\tCode: InferencingClientCreateDeploymentFailed\n\tMessage: InferencingClient HttpRequest error, error detail: {\"errors\":{\"\":[\"This endpoint has not been created successfully. Please recreate endpoint and then try again to create deployment.\"]},\"type\":\"https://tools.ietf.org/html/rfc7231#section-6.5.1\",\"title\":\"One or more validation errors occurred.\",\"status\":400,\"traceId\":\"00-4748b3638adb04b8043851fb6f3dc500-fce74b9cf8e1fc11-00\"}\nAdditional Information:Type: ComponentName\nInfo: {\n    \"value\": \"managementfrontend\"\n}Type: Correlation\nInfo: {\n    \"value\": {\n        \"operation\": \"4748b3638adb04b8043851fb6f3dc500\",\n        \"request\": \"011b934334c1e367\"\n    }\n}Type: Environment\nInfo: {\n    \"value\": \"westus2\"\n}Type: Location\nInfo: {\n    \"value\": \"westus2\"\n}Type: Time\nInfo: {\n    \"value\": \"2022-11-02T20:58:55.0321002+00:00\"\n}",
     "output_type": "error",
     "traceback": [
      "\u001b[0;31m---------------------------------------------------------------------------\u001b[0m",
      "\u001b[0;31mHttpResponseError\u001b[0m                         Traceback (most recent call last)",
      "\u001b[0;32m/tmp/ipykernel_8747/3596738982.py\u001b[0m in \u001b[0;36m<module>\u001b[0;34m\u001b[0m\n\u001b[1;32m      7\u001b[0m     \u001b[0minstance_count\u001b[0m\u001b[0;34m=\u001b[0m\u001b[0;36m1\u001b[0m\u001b[0;34m,\u001b[0m\u001b[0;34m\u001b[0m\u001b[0;34m\u001b[0m\u001b[0m\n\u001b[1;32m      8\u001b[0m )\n\u001b[0;32m----> 9\u001b[0;31m \u001b[0mml_client_workspace_prod\u001b[0m\u001b[0;34m.\u001b[0m\u001b[0monline_deployments\u001b[0m\u001b[0;34m.\u001b[0m\u001b[0mbegin_create_or_update\u001b[0m\u001b[0;34m(\u001b[0m\u001b[0mdemo_deployment\u001b[0m\u001b[0;34m)\u001b[0m\u001b[0;34m.\u001b[0m\u001b[0mwait\u001b[0m\u001b[0;34m(\u001b[0m\u001b[0;34m)\u001b[0m\u001b[0;34m\u001b[0m\u001b[0;34m\u001b[0m\u001b[0m\n\u001b[0m\u001b[1;32m     10\u001b[0m \u001b[0;34m\u001b[0m\u001b[0m\n\u001b[1;32m     11\u001b[0m \u001b[0mendpoint\u001b[0m\u001b[0;34m.\u001b[0m\u001b[0mtraffic\u001b[0m \u001b[0;34m=\u001b[0m \u001b[0;34m{\u001b[0m\u001b[0;34m\"demo\"\u001b[0m\u001b[0;34m:\u001b[0m \u001b[0;36m100\u001b[0m\u001b[0;34m}\u001b[0m\u001b[0;34m\u001b[0m\u001b[0;34m\u001b[0m\u001b[0m\n",
      "\u001b[0;32m~/miniconda3/lib/python3.8/site-packages/azure/core/tracing/decorator.py\u001b[0m in \u001b[0;36mwrapper_use_tracer\u001b[0;34m(*args, **kwargs)\u001b[0m\n\u001b[1;32m     76\u001b[0m             \u001b[0mspan_impl_type\u001b[0m \u001b[0;34m=\u001b[0m \u001b[0msettings\u001b[0m\u001b[0;34m.\u001b[0m\u001b[0mtracing_implementation\u001b[0m\u001b[0;34m(\u001b[0m\u001b[0;34m)\u001b[0m\u001b[0;34m\u001b[0m\u001b[0;34m\u001b[0m\u001b[0m\n\u001b[1;32m     77\u001b[0m             \u001b[0;32mif\u001b[0m \u001b[0mspan_impl_type\u001b[0m \u001b[0;32mis\u001b[0m \u001b[0;32mNone\u001b[0m\u001b[0;34m:\u001b[0m\u001b[0;34m\u001b[0m\u001b[0;34m\u001b[0m\u001b[0m\n\u001b[0;32m---> 78\u001b[0;31m                 \u001b[0;32mreturn\u001b[0m \u001b[0mfunc\u001b[0m\u001b[0;34m(\u001b[0m\u001b[0;34m*\u001b[0m\u001b[0margs\u001b[0m\u001b[0;34m,\u001b[0m \u001b[0;34m**\u001b[0m\u001b[0mkwargs\u001b[0m\u001b[0;34m)\u001b[0m\u001b[0;34m\u001b[0m\u001b[0;34m\u001b[0m\u001b[0m\n\u001b[0m\u001b[1;32m     79\u001b[0m \u001b[0;34m\u001b[0m\u001b[0m\n\u001b[1;32m     80\u001b[0m             \u001b[0;31m# Merge span is parameter is set, but only if no explicit parent are passed\u001b[0m\u001b[0;34m\u001b[0m\u001b[0;34m\u001b[0m\u001b[0;34m\u001b[0m\u001b[0m\n",
      "\u001b[0;32m~/miniconda3/lib/python3.8/site-packages/azure/ai/ml/operations/_online_deployment_operations.py\u001b[0m in \u001b[0;36mbegin_create_or_update\u001b[0;34m(self, deployment, local, vscode_debug, skip_script_validation)\u001b[0m\n\u001b[1;32m    180\u001b[0m                 \u001b[0mlog_and_raise_error\u001b[0m\u001b[0;34m(\u001b[0m\u001b[0mex\u001b[0m\u001b[0;34m)\u001b[0m\u001b[0;34m\u001b[0m\u001b[0;34m\u001b[0m\u001b[0m\n\u001b[1;32m    181\u001b[0m             \u001b[0;32melse\u001b[0m\u001b[0;34m:\u001b[0m\u001b[0;34m\u001b[0m\u001b[0;34m\u001b[0m\u001b[0m\n\u001b[0;32m--> 182\u001b[0;31m                 \u001b[0;32mraise\u001b[0m \u001b[0mex\u001b[0m\u001b[0;34m\u001b[0m\u001b[0;34m\u001b[0m\u001b[0m\n\u001b[0m\u001b[1;32m    183\u001b[0m \u001b[0;34m\u001b[0m\u001b[0m\n\u001b[1;32m    184\u001b[0m     \u001b[0;34m@\u001b[0m\u001b[0mdistributed_trace\u001b[0m\u001b[0;34m\u001b[0m\u001b[0;34m\u001b[0m\u001b[0m\n",
      "\u001b[0;32m~/miniconda3/lib/python3.8/site-packages/azure/ai/ml/operations/_online_deployment_operations.py\u001b[0m in \u001b[0;36mbegin_create_or_update\u001b[0;34m(self, deployment, local, vscode_debug, skip_script_validation)\u001b[0m\n\u001b[1;32m    175\u001b[0m                 \u001b[0;32mreturn\u001b[0m \u001b[0mpoller\u001b[0m\u001b[0;34m\u001b[0m\u001b[0;34m\u001b[0m\u001b[0m\n\u001b[1;32m    176\u001b[0m             \u001b[0;32mexcept\u001b[0m \u001b[0mException\u001b[0m \u001b[0;32mas\u001b[0m \u001b[0mex\u001b[0m\u001b[0;34m:\u001b[0m\u001b[0;34m\u001b[0m\u001b[0;34m\u001b[0m\u001b[0m\n\u001b[0;32m--> 177\u001b[0;31m                 \u001b[0;32mraise\u001b[0m \u001b[0mex\u001b[0m\u001b[0;34m\u001b[0m\u001b[0;34m\u001b[0m\u001b[0m\n\u001b[0m\u001b[1;32m    178\u001b[0m         \u001b[0;32mexcept\u001b[0m \u001b[0mException\u001b[0m \u001b[0;32mas\u001b[0m \u001b[0mex\u001b[0m\u001b[0;34m:\u001b[0m  \u001b[0;31m# pylint: disable=broad-except\u001b[0m\u001b[0;34m\u001b[0m\u001b[0;34m\u001b[0m\u001b[0m\n\u001b[1;32m    179\u001b[0m             \u001b[0;32mif\u001b[0m \u001b[0misinstance\u001b[0m\u001b[0;34m(\u001b[0m\u001b[0mex\u001b[0m\u001b[0;34m,\u001b[0m \u001b[0;34m(\u001b[0m\u001b[0mValidationException\u001b[0m\u001b[0;34m,\u001b[0m \u001b[0mSchemaValidationError\u001b[0m\u001b[0;34m)\u001b[0m\u001b[0;34m)\u001b[0m\u001b[0;34m:\u001b[0m\u001b[0;34m\u001b[0m\u001b[0;34m\u001b[0m\u001b[0m\n",
      "\u001b[0;32m~/miniconda3/lib/python3.8/site-packages/azure/ai/ml/operations/_online_deployment_operations.py\u001b[0m in \u001b[0;36mbegin_create_or_update\u001b[0;34m(self, deployment, local, vscode_debug, skip_script_validation)\u001b[0m\n\u001b[1;32m    158\u001b[0m                 \u001b[0mdeployment_rest\u001b[0m \u001b[0;34m=\u001b[0m \u001b[0mdeployment\u001b[0m\u001b[0;34m.\u001b[0m\u001b[0m_to_rest_object\u001b[0m\u001b[0;34m(\u001b[0m\u001b[0mlocation\u001b[0m\u001b[0;34m=\u001b[0m\u001b[0mlocation\u001b[0m\u001b[0;34m)\u001b[0m\u001b[0;34m\u001b[0m\u001b[0;34m\u001b[0m\u001b[0m\n\u001b[1;32m    159\u001b[0m \u001b[0;34m\u001b[0m\u001b[0m\n\u001b[0;32m--> 160\u001b[0;31m                 poller = self._online_deployment.begin_create_or_update(\n\u001b[0m\u001b[1;32m    161\u001b[0m                     \u001b[0mresource_group_name\u001b[0m\u001b[0;34m=\u001b[0m\u001b[0mself\u001b[0m\u001b[0;34m.\u001b[0m\u001b[0m_resource_group_name\u001b[0m\u001b[0;34m,\u001b[0m\u001b[0;34m\u001b[0m\u001b[0;34m\u001b[0m\u001b[0m\n\u001b[1;32m    162\u001b[0m                     \u001b[0mworkspace_name\u001b[0m\u001b[0;34m=\u001b[0m\u001b[0mself\u001b[0m\u001b[0;34m.\u001b[0m\u001b[0m_workspace_name\u001b[0m\u001b[0;34m,\u001b[0m\u001b[0;34m\u001b[0m\u001b[0;34m\u001b[0m\u001b[0m\n",
      "\u001b[0;32m~/miniconda3/lib/python3.8/site-packages/azure/core/tracing/decorator.py\u001b[0m in \u001b[0;36mwrapper_use_tracer\u001b[0;34m(*args, **kwargs)\u001b[0m\n\u001b[1;32m     76\u001b[0m             \u001b[0mspan_impl_type\u001b[0m \u001b[0;34m=\u001b[0m \u001b[0msettings\u001b[0m\u001b[0;34m.\u001b[0m\u001b[0mtracing_implementation\u001b[0m\u001b[0;34m(\u001b[0m\u001b[0;34m)\u001b[0m\u001b[0;34m\u001b[0m\u001b[0;34m\u001b[0m\u001b[0m\n\u001b[1;32m     77\u001b[0m             \u001b[0;32mif\u001b[0m \u001b[0mspan_impl_type\u001b[0m \u001b[0;32mis\u001b[0m \u001b[0;32mNone\u001b[0m\u001b[0;34m:\u001b[0m\u001b[0;34m\u001b[0m\u001b[0;34m\u001b[0m\u001b[0m\n\u001b[0;32m---> 78\u001b[0;31m                 \u001b[0;32mreturn\u001b[0m \u001b[0mfunc\u001b[0m\u001b[0;34m(\u001b[0m\u001b[0;34m*\u001b[0m\u001b[0margs\u001b[0m\u001b[0;34m,\u001b[0m \u001b[0;34m**\u001b[0m\u001b[0mkwargs\u001b[0m\u001b[0;34m)\u001b[0m\u001b[0;34m\u001b[0m\u001b[0;34m\u001b[0m\u001b[0m\n\u001b[0m\u001b[1;32m     79\u001b[0m \u001b[0;34m\u001b[0m\u001b[0m\n\u001b[1;32m     80\u001b[0m             \u001b[0;31m# Merge span is parameter is set, but only if no explicit parent are passed\u001b[0m\u001b[0;34m\u001b[0m\u001b[0;34m\u001b[0m\u001b[0;34m\u001b[0m\u001b[0m\n",
      "\u001b[0;32m~/miniconda3/lib/python3.8/site-packages/azure/ai/ml/_restclient/v2022_02_01_preview/operations/_online_deployments_operations.py\u001b[0m in \u001b[0;36mbegin_create_or_update\u001b[0;34m(self, resource_group_name, workspace_name, endpoint_name, deployment_name, body, **kwargs)\u001b[0m\n\u001b[1;32m    893\u001b[0m         \u001b[0mcont_token\u001b[0m \u001b[0;34m=\u001b[0m \u001b[0mkwargs\u001b[0m\u001b[0;34m.\u001b[0m\u001b[0mpop\u001b[0m\u001b[0;34m(\u001b[0m\u001b[0;34m'continuation_token'\u001b[0m\u001b[0;34m,\u001b[0m \u001b[0;32mNone\u001b[0m\u001b[0;34m)\u001b[0m  \u001b[0;31m# type: Optional[str]\u001b[0m\u001b[0;34m\u001b[0m\u001b[0;34m\u001b[0m\u001b[0m\n\u001b[1;32m    894\u001b[0m         \u001b[0;32mif\u001b[0m \u001b[0mcont_token\u001b[0m \u001b[0;32mis\u001b[0m \u001b[0;32mNone\u001b[0m\u001b[0;34m:\u001b[0m\u001b[0;34m\u001b[0m\u001b[0;34m\u001b[0m\u001b[0m\n\u001b[0;32m--> 895\u001b[0;31m             raw_result = self._create_or_update_initial(\n\u001b[0m\u001b[1;32m    896\u001b[0m                 \u001b[0mresource_group_name\u001b[0m\u001b[0;34m=\u001b[0m\u001b[0mresource_group_name\u001b[0m\u001b[0;34m,\u001b[0m\u001b[0;34m\u001b[0m\u001b[0;34m\u001b[0m\u001b[0m\n\u001b[1;32m    897\u001b[0m                 \u001b[0mworkspace_name\u001b[0m\u001b[0;34m=\u001b[0m\u001b[0mworkspace_name\u001b[0m\u001b[0;34m,\u001b[0m\u001b[0;34m\u001b[0m\u001b[0;34m\u001b[0m\u001b[0m\n",
      "\u001b[0;32m~/miniconda3/lib/python3.8/site-packages/azure/ai/ml/_restclient/v2022_02_01_preview/operations/_online_deployments_operations.py\u001b[0m in \u001b[0;36m_create_or_update_initial\u001b[0;34m(self, resource_group_name, workspace_name, endpoint_name, deployment_name, body, **kwargs)\u001b[0m\n\u001b[1;32m    825\u001b[0m         \u001b[0;32mif\u001b[0m \u001b[0mresponse\u001b[0m\u001b[0;34m.\u001b[0m\u001b[0mstatus_code\u001b[0m \u001b[0;32mnot\u001b[0m \u001b[0;32min\u001b[0m \u001b[0;34m[\u001b[0m\u001b[0;36m200\u001b[0m\u001b[0;34m,\u001b[0m \u001b[0;36m201\u001b[0m\u001b[0;34m]\u001b[0m\u001b[0;34m:\u001b[0m\u001b[0;34m\u001b[0m\u001b[0;34m\u001b[0m\u001b[0m\n\u001b[1;32m    826\u001b[0m             \u001b[0mmap_error\u001b[0m\u001b[0;34m(\u001b[0m\u001b[0mstatus_code\u001b[0m\u001b[0;34m=\u001b[0m\u001b[0mresponse\u001b[0m\u001b[0;34m.\u001b[0m\u001b[0mstatus_code\u001b[0m\u001b[0;34m,\u001b[0m \u001b[0mresponse\u001b[0m\u001b[0;34m=\u001b[0m\u001b[0mresponse\u001b[0m\u001b[0;34m,\u001b[0m \u001b[0merror_map\u001b[0m\u001b[0;34m=\u001b[0m\u001b[0merror_map\u001b[0m\u001b[0;34m)\u001b[0m\u001b[0;34m\u001b[0m\u001b[0;34m\u001b[0m\u001b[0m\n\u001b[0;32m--> 827\u001b[0;31m             \u001b[0;32mraise\u001b[0m \u001b[0mHttpResponseError\u001b[0m\u001b[0;34m(\u001b[0m\u001b[0mresponse\u001b[0m\u001b[0;34m=\u001b[0m\u001b[0mresponse\u001b[0m\u001b[0;34m,\u001b[0m \u001b[0merror_format\u001b[0m\u001b[0;34m=\u001b[0m\u001b[0mARMErrorFormat\u001b[0m\u001b[0;34m)\u001b[0m\u001b[0;34m\u001b[0m\u001b[0;34m\u001b[0m\u001b[0m\n\u001b[0m\u001b[1;32m    828\u001b[0m \u001b[0;34m\u001b[0m\u001b[0m\n\u001b[1;32m    829\u001b[0m         \u001b[0mresponse_headers\u001b[0m \u001b[0;34m=\u001b[0m \u001b[0;34m{\u001b[0m\u001b[0;34m}\u001b[0m\u001b[0;34m\u001b[0m\u001b[0;34m\u001b[0m\u001b[0m\n",
      "\u001b[0;31mHttpResponseError\u001b[0m: (BadRequest) The request is invalid.\nCode: BadRequest\nMessage: The request is invalid.\nException Details:\t(InferencingClientCreateDeploymentFailed) InferencingClient HttpRequest error, error detail: {\"errors\":{\"\":[\"This endpoint has not been created successfully. Please recreate endpoint and then try again to create deployment.\"]},\"type\":\"https://tools.ietf.org/html/rfc7231#section-6.5.1\",\"title\":\"One or more validation errors occurred.\",\"status\":400,\"traceId\":\"00-4748b3638adb04b8043851fb6f3dc500-fce74b9cf8e1fc11-00\"}\n\tCode: InferencingClientCreateDeploymentFailed\n\tMessage: InferencingClient HttpRequest error, error detail: {\"errors\":{\"\":[\"This endpoint has not been created successfully. Please recreate endpoint and then try again to create deployment.\"]},\"type\":\"https://tools.ietf.org/html/rfc7231#section-6.5.1\",\"title\":\"One or more validation errors occurred.\",\"status\":400,\"traceId\":\"00-4748b3638adb04b8043851fb6f3dc500-fce74b9cf8e1fc11-00\"}\nAdditional Information:Type: ComponentName\nInfo: {\n    \"value\": \"managementfrontend\"\n}Type: Correlation\nInfo: {\n    \"value\": {\n        \"operation\": \"4748b3638adb04b8043851fb6f3dc500\",\n        \"request\": \"011b934334c1e367\"\n    }\n}Type: Environment\nInfo: {\n    \"value\": \"westus2\"\n}Type: Location\nInfo: {\n    \"value\": \"westus2\"\n}Type: Time\nInfo: {\n    \"value\": \"2022-11-02T20:58:55.0321002+00:00\"\n}"
     ]
    }
   ],
   "source": [
    "# create a demo deployment\n",
    "demo_deployment = ManagedOnlineDeployment(\n",
    "    name=\"demo\",\n",
    "    endpoint_name=online_endpoint_name,\n",
    "    model=mlflow_model_from_registry.id,\n",
    "    instance_type=\"Standard_F4s_v2\",\n",
    "    instance_count=1,\n",
    ")\n",
    "ml_client_workspace_prod.online_deployments.begin_create_or_update(demo_deployment).wait()\n",
    "\n",
    "endpoint.traffic = {\"demo\": 100}\n",
    "ml_client_workspace_prod.begin_create_or_update(endpoint)"
   ]
  },
  {
   "cell_type": "markdown",
   "metadata": {},
   "source": [
    "### Test the deployment\n",
    "\n",
    "This section needs a sample request file `scoring-data.json` which is available in the root directory initialized in the beginning of this notebook: [../../../cli/jobs/pipelines-with-components/nyc_taxi_data_regression/scoring-data.json](../../../cli/jobs/pipelines-with-components/nyc_taxi_data_regression/scoring-data.json)"
   ]
  },
  {
   "cell_type": "code",
   "execution_count": null,
   "metadata": {},
   "outputs": [],
   "source": [
    "# test the  deployment with some sample data\n",
    "ml_client_workspace_prod.online_endpoints.invoke(\n",
    "    endpoint_name=online_endpoint_name,\n",
    "    deployment_name=\"demo\",\n",
    "    request_file=parent_dir + \"/scoring-data.json\",\n",
    ")"
   ]
  },
  {
   "cell_type": "markdown",
   "metadata": {},
   "source": [
    "### Clean up resources\n",
    "\n",
    "#### delete online endpoint "
   ]
  },
  {
   "cell_type": "code",
   "execution_count": null,
   "metadata": {},
   "outputs": [],
   "source": [
    "print(f\"online_endpoint_name: {online_endpoint_name}\")\n",
    "#ml_client_workspace_prod.online_endpoints.begin_delete(name=online_endpoint_name).wait()"
   ]
  }
 ],
 "metadata": {
  "kernelspec": {
   "display_name": "Python 3.8.10 ('base')",
   "language": "python",
   "name": "python3"
  },
  "language_info": {
   "codemirror_mode": {
    "name": "ipython",
    "version": 3
   },
   "file_extension": ".py",
   "mimetype": "text/x-python",
   "name": "python",
   "nbconvert_exporter": "python",
   "pygments_lexer": "ipython3",
   "version": "3.8.10"
  },
  "vscode": {
   "interpreter": {
    "hash": "2f394aca7ca06fed1e6064aef884364492d7cdda3614a461e02e6407fc40ba69"
   }
  }
 },
 "nbformat": 4,
 "nbformat_minor": 2
}
