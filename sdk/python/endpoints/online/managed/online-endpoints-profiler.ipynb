{
 "cells": [
  {
   "cell_type": "markdown",
   "metadata": {},
   "source": [
    "# Use the AzureML Profiler"
   ]
  },
  {
   "cell_type": "code",
   "execution_count": null,
   "metadata": {},
   "outputs": [],
   "source": [
    "%pip install azure-mgmt-authorization"
   ]
  },
  {
   "cell_type": "markdown",
   "metadata": {},
   "source": [
    "## 1. Connect to Azure Machine Learning Workspace"
   ]
  },
  {
   "cell_type": "markdown",
   "metadata": {},
   "source": [
    "### 1.1 Import required libraries"
   ]
  },
  {
   "cell_type": "code",
   "execution_count": 53,
   "metadata": {},
   "outputs": [],
   "source": [
    "from azure.ai.ml import MLClient\n",
    "from azure.ai.ml.entities import (\n",
    "    ManagedOnlineEndpoint,\n",
    "    ManagedOnlineDeployment,\n",
    "    Model,\n",
    "    CodeConfiguration,\n",
    "    Environment,\n",
    "    ComputeInstance,\n",
    "    IdentityConfiguration, \n",
    "    Data,\n",
    "    CommandJob\n",
    ")\n",
    "from azure.ai.ml import Input\n",
    "from azure.identity import DefaultAzureCredential\n",
    "from azure.ai.ml.constants import AssetTypes\n",
    "import random"
   ]
  },
  {
   "cell_type": "markdown",
   "metadata": {},
   "source": [
    "### 1.2 Set workspace details"
   ]
  },
  {
   "cell_type": "code",
   "execution_count": null,
   "metadata": {},
   "outputs": [],
   "source": [
    "subscription_id = \"<SUBSCRIPTION_ID>\"\n",
    "resource_group = \"<RESOURCE_GROUP>\"\n",
    "workspace_name = \"<AML_WORKSPACE_NAME>\""
   ]
  },
  {
   "cell_type": "code",
   "execution_count": null,
   "metadata": {},
   "outputs": [],
   "source": [
    "subscription_id = \"6fe1c377-b645-4e8e-b588-52e57cc856b2\"\n",
    "resource_group = \"role-creation-sample\"\n",
    "workspace_name = \"test-workspace\""
   ]
  },
  {
   "cell_type": "markdown",
   "metadata": {},
   "source": [
    "### 1.3 Set variables"
   ]
  },
  {
   "cell_type": "code",
   "execution_count": 57,
   "metadata": {},
   "outputs": [],
   "source": [
    "rand = random.randint(0, 100000)\n",
    "endpoint_name=f\"endpt-moe-{rand}\" \n",
    "profiler_compute_name=\"profiler2\"\n",
    "profiler_compute_size=\"Standard_DS4_v2\""
   ]
  },
  {
   "cell_type": "markdown",
   "metadata": {},
   "source": [
    "### 1.4 Get a handle to the workspace "
   ]
  },
  {
   "cell_type": "code",
   "execution_count": 55,
   "metadata": {},
   "outputs": [],
   "source": [
    "credential = DefaultAzureCredential()\n",
    "ml_client = MLClient(\n",
    "    credential,\n",
    "    subscription_id=subscription_id,\n",
    "    resource_group_name=resource_group,\n",
    "    workspace_name=workspace_name,\n",
    ")"
   ]
  },
  {
   "cell_type": "markdown",
   "metadata": {},
   "source": [
    "## 2. Make an endpoint to profile"
   ]
  },
  {
   "cell_type": "markdown",
   "metadata": {},
   "source": [
    "### 2.1 Create an endpoint"
   ]
  },
  {
   "cell_type": "code",
   "execution_count": 58,
   "metadata": {},
   "outputs": [],
   "source": [
    "endpoint = ManagedOnlineEndpoint(name=endpoint_name)\n",
    "endpoint = ml_client.online_endpoints.begin_create_or_update(endpoint).result()"
   ]
  },
  {
   "cell_type": "markdown",
   "metadata": {},
   "source": [
    "### 2.2 Create a deployment"
   ]
  },
  {
   "cell_type": "code",
   "execution_count": 60,
   "metadata": {},
   "outputs": [
    {
     "ename": "ValidationException",
     "evalue": "No such file or directory: /home/azureuser/localfiles/azureml-examples-parent/profiler/azureml-examples/sdk/python/endpoints/online/managed/profiler/env.yml",
     "output_type": "error",
     "traceback": [
      "\u001b[0;31m---------------------------------------------------------------------------\u001b[0m",
      "\u001b[0;31mFileNotFoundError\u001b[0m                         Traceback (most recent call last)",
      "File \u001b[0;32m/anaconda/envs/amlex-infschema/lib/python3.10/site-packages/azure/ai/ml/_utils/utils.py:281\u001b[0m, in \u001b[0;36mload_yaml\u001b[0;34m(source)\u001b[0m\n\u001b[1;32m    280\u001b[0m \u001b[39mtry\u001b[39;00m:\n\u001b[0;32m--> 281\u001b[0m     \u001b[39minput\u001b[39m \u001b[39m=\u001b[39m \u001b[39mopen\u001b[39;49m(source, \u001b[39m\"\u001b[39;49m\u001b[39mr\u001b[39;49m\u001b[39m\"\u001b[39;49m)\n\u001b[1;32m    282\u001b[0m \u001b[39mexcept\u001b[39;00m \u001b[39mOSError\u001b[39;00m:  \u001b[39m# FileNotFoundError introduced in Python 3\u001b[39;00m\n",
      "\u001b[0;31mFileNotFoundError\u001b[0m: [Errno 2] No such file or directory: '/home/azureuser/localfiles/azureml-examples-parent/profiler/azureml-examples/sdk/python/endpoints/online/managed/profiler/env.yml'",
      "\nDuring handling of the above exception, another exception occurred:\n",
      "\u001b[0;31mValidationException\u001b[0m                       Traceback (most recent call last)",
      "Cell \u001b[0;32mIn [60], line 8\u001b[0m\n\u001b[1;32m      1\u001b[0m deployment \u001b[39m=\u001b[39m ManagedOnlineDeployment(\n\u001b[1;32m      2\u001b[0m     name\u001b[39m=\u001b[39m\u001b[39m\"\u001b[39m\u001b[39mopenapi\u001b[39m\u001b[39m\"\u001b[39m,\n\u001b[1;32m      3\u001b[0m     endpoint_name\u001b[39m=\u001b[39mendpoint_name,\n\u001b[1;32m      4\u001b[0m     model\u001b[39m=\u001b[39mModel(path\u001b[39m=\u001b[39m\u001b[39m\"\u001b[39m\u001b[39m../model-1/model/sklearn_regression_model.pkl\u001b[39m\u001b[39m\"\u001b[39m),\n\u001b[1;32m      5\u001b[0m     code_configuration\u001b[39m=\u001b[39mCodeConfiguration(\n\u001b[1;32m      6\u001b[0m         code\u001b[39m=\u001b[39m\u001b[39m\"\u001b[39m\u001b[39mopenapi/code-custom\u001b[39m\u001b[39m\"\u001b[39m, scoring_script\u001b[39m=\u001b[39m\u001b[39m\"\u001b[39m\u001b[39mscore.py\u001b[39m\u001b[39m\"\u001b[39m\n\u001b[1;32m      7\u001b[0m     ),\n\u001b[0;32m----> 8\u001b[0m     environment\u001b[39m=\u001b[39mEnvironment(\n\u001b[1;32m      9\u001b[0m         image\u001b[39m=\u001b[39;49m\u001b[39m\"\u001b[39;49m\u001b[39mmcr.microsoft.com/azureml/minimal-ubuntu20.04-py38-cpu-inference\u001b[39;49m\u001b[39m\"\u001b[39;49m,\n\u001b[1;32m     10\u001b[0m         conda_file\u001b[39m=\u001b[39;49m\u001b[39m\"\u001b[39;49m\u001b[39mprofiler/env.yml\u001b[39;49m\u001b[39m\"\u001b[39;49m,\n\u001b[1;32m     11\u001b[0m     ),\n\u001b[1;32m     12\u001b[0m     instance_type\u001b[39m=\u001b[39m\u001b[39m\"\u001b[39m\u001b[39mStandard_DS2_v2\u001b[39m\u001b[39m\"\u001b[39m,\n\u001b[1;32m     13\u001b[0m     instance_count\u001b[39m=\u001b[39m\u001b[39m1\u001b[39m,\n\u001b[1;32m     14\u001b[0m )\n",
      "File \u001b[0;32m/anaconda/envs/amlex-infschema/lib/python3.10/site-packages/azure/ai/ml/entities/_assets/environment.py:117\u001b[0m, in \u001b[0;36mEnvironment.__init__\u001b[0;34m(self, name, version, description, image, build, conda_file, tags, properties, datastore, **kwargs)\u001b[0m\n\u001b[1;32m    106\u001b[0m os_type \u001b[39m=\u001b[39m kwargs\u001b[39m.\u001b[39mpop(\u001b[39m\"\u001b[39m\u001b[39mos_type\u001b[39m\u001b[39m\"\u001b[39m, \u001b[39mNone\u001b[39;00m)\n\u001b[1;32m    108\u001b[0m \u001b[39msuper\u001b[39m()\u001b[39m.\u001b[39m\u001b[39m__init__\u001b[39m(\n\u001b[1;32m    109\u001b[0m     name\u001b[39m=\u001b[39mname,\n\u001b[1;32m    110\u001b[0m     version\u001b[39m=\u001b[39mversion,\n\u001b[0;32m   (...)\u001b[0m\n\u001b[1;32m    114\u001b[0m     \u001b[39m*\u001b[39m\u001b[39m*\u001b[39mkwargs,\n\u001b[1;32m    115\u001b[0m )\n\u001b[0;32m--> 117\u001b[0m \u001b[39mself\u001b[39;49m\u001b[39m.\u001b[39;49mconda_file \u001b[39m=\u001b[39m conda_file\n\u001b[1;32m    118\u001b[0m \u001b[39mself\u001b[39m\u001b[39m.\u001b[39mimage \u001b[39m=\u001b[39m image\n\u001b[1;32m    119\u001b[0m \u001b[39mself\u001b[39m\u001b[39m.\u001b[39mbuild \u001b[39m=\u001b[39m build\n",
      "File \u001b[0;32m/anaconda/envs/amlex-infschema/lib/python3.10/site-packages/azure/ai/ml/entities/_assets/environment.py:168\u001b[0m, in \u001b[0;36mEnvironment.conda_file\u001b[0;34m(self, value)\u001b[0m\n\u001b[1;32m    161\u001b[0m \u001b[39m\"\"\"Set conda environment specification.\u001b[39;00m\n\u001b[1;32m    162\u001b[0m \n\u001b[1;32m    163\u001b[0m \u001b[39m:param value: A path to a local conda dependencies yaml file or a loaded yaml dictionary of dependencies.\u001b[39;00m\n\u001b[1;32m    164\u001b[0m \u001b[39m:type value: Union[str, os.PathLike, Dict]\u001b[39;00m\n\u001b[1;32m    165\u001b[0m \u001b[39m:return: None\u001b[39;00m\n\u001b[1;32m    166\u001b[0m \u001b[39m\"\"\"\u001b[39;00m\n\u001b[1;32m    167\u001b[0m \u001b[39mif\u001b[39;00m \u001b[39mnot\u001b[39;00m \u001b[39misinstance\u001b[39m(value, Dict):\n\u001b[0;32m--> 168\u001b[0m     value \u001b[39m=\u001b[39m _deserialize(\u001b[39mself\u001b[39;49m\u001b[39m.\u001b[39;49mbase_path, value, is_conda\u001b[39m=\u001b[39;49m\u001b[39mTrue\u001b[39;49;00m)\n\u001b[1;32m    169\u001b[0m \u001b[39mself\u001b[39m\u001b[39m.\u001b[39m_conda_file \u001b[39m=\u001b[39m value\n",
      "File \u001b[0;32m/anaconda/envs/amlex-infschema/lib/python3.10/site-packages/azure/ai/ml/entities/_assets/environment.py:382\u001b[0m, in \u001b[0;36m_deserialize\u001b[0;34m(base_path, input, is_conda)\u001b[0m\n\u001b[1;32m    380\u001b[0m path \u001b[39m=\u001b[39m _resolve_path(base_path\u001b[39m=\u001b[39mbase_path, \u001b[39minput\u001b[39m\u001b[39m=\u001b[39m\u001b[39minput\u001b[39m)\n\u001b[1;32m    381\u001b[0m \u001b[39mif\u001b[39;00m is_conda:\n\u001b[0;32m--> 382\u001b[0m     data \u001b[39m=\u001b[39m load_yaml(path)\n\u001b[1;32m    383\u001b[0m \u001b[39melse\u001b[39;00m:\n\u001b[1;32m    384\u001b[0m     data \u001b[39m=\u001b[39m load_file(path)\n",
      "File \u001b[0;32m/anaconda/envs/amlex-infschema/lib/python3.10/site-packages/azure/ai/ml/_utils/utils.py:284\u001b[0m, in \u001b[0;36mload_yaml\u001b[0;34m(source)\u001b[0m\n\u001b[1;32m    282\u001b[0m     \u001b[39mexcept\u001b[39;00m \u001b[39mOSError\u001b[39;00m:  \u001b[39m# FileNotFoundError introduced in Python 3\u001b[39;00m\n\u001b[1;32m    283\u001b[0m         msg \u001b[39m=\u001b[39m \u001b[39m\"\u001b[39m\u001b[39mNo such file or directory: \u001b[39m\u001b[39m{}\u001b[39;00m\u001b[39m\"\u001b[39m\n\u001b[0;32m--> 284\u001b[0m         \u001b[39mraise\u001b[39;00m ValidationException(\n\u001b[1;32m    285\u001b[0m             message\u001b[39m=\u001b[39mmsg\u001b[39m.\u001b[39mformat(source),\n\u001b[1;32m    286\u001b[0m             no_personal_data_message\u001b[39m=\u001b[39mmsg\u001b[39m.\u001b[39mformat(\u001b[39m\"\u001b[39m\u001b[39m[file_path]\u001b[39m\u001b[39m\"\u001b[39m),\n\u001b[1;32m    287\u001b[0m             error_category\u001b[39m=\u001b[39mErrorCategory\u001b[39m.\u001b[39mUSER_ERROR,\n\u001b[1;32m    288\u001b[0m             target\u001b[39m=\u001b[39mErrorTarget\u001b[39m.\u001b[39mGENERAL,\n\u001b[1;32m    289\u001b[0m             error_type\u001b[39m=\u001b[39mValidationErrorType\u001b[39m.\u001b[39mFILE_OR_FOLDER_NOT_FOUND,\n\u001b[1;32m    290\u001b[0m         )\n\u001b[1;32m    291\u001b[0m \u001b[39m# input should now be an readable file or stream. Parse it.\u001b[39;00m\n\u001b[1;32m    292\u001b[0m cfg \u001b[39m=\u001b[39m {}\n",
      "\u001b[0;31mValidationException\u001b[0m: No such file or directory: /home/azureuser/localfiles/azureml-examples-parent/profiler/azureml-examples/sdk/python/endpoints/online/managed/profiler/env.yml"
     ]
    }
   ],
   "source": [
    "deployment = ManagedOnlineDeployment(\n",
    "    name=\"openapi\",\n",
    "    endpoint_name=endpoint_name,\n",
    "    model=Model(path=\"../model-1/model/sklearn_regression_model.pkl\"),\n",
    "    code_configuration=CodeConfiguration(\n",
    "        code=\"openapi/code-custom\", scoring_script=\"score.py\"\n",
    "    ),\n",
    "    environment=Environment(\n",
    "        image=\"mcr.microsoft.com/azureml/minimal-ubuntu20.04-py38-cpu-inference\",\n",
    "        conda_file=\"profiler/env.yml\",\n",
    "    ),\n",
    "    instance_type=\"Standard_DS2_v2\",\n",
    "    instance_count=1,\n",
    ")"
   ]
  },
  {
   "cell_type": "code",
   "execution_count": null,
   "metadata": {},
   "outputs": [],
   "source": [
    "deployment = ml_client.online_deployments.begin_create_or_update(deployment).result()"
   ]
  },
  {
   "cell_type": "markdown",
   "metadata": {},
   "source": [
    "## 3. Create a compute instance to run the profiler"
   ]
  },
  {
   "cell_type": "markdown",
   "metadata": {},
   "source": [
    "### 3.1 Define the compute instance"
   ]
  },
  {
   "cell_type": "code",
   "execution_count": null,
   "metadata": {},
   "outputs": [],
   "source": [
    "compute = ComputeInstance(\n",
    "    name=profiler_compute_name,\n",
    "    size=\"Standard_DS4_v2\", \n",
    "    identity=IdentityConfiguration(type=\"system_assigned\")\n",
    ")"
   ]
  },
  {
   "cell_type": "code",
   "execution_count": null,
   "metadata": {},
   "outputs": [],
   "source": [
    "compute = ml_client.compute.begin_create_or_update(compute).result()"
   ]
  },
  {
   "cell_type": "markdown",
   "metadata": {},
   "source": [
    "### 3.3 Get Authorization Management Clients "
   ]
  },
  {
   "cell_type": "code",
   "execution_count": null,
   "metadata": {},
   "outputs": [],
   "source": [
    "from azure.mgmt.authorization import AuthorizationManagementClient\n",
    "from azure.mgmt.authorization.v2018_01_01_preview.models import RoleDefinition\n",
    "import uuid\n",
    "\n",
    "role_definition_client = AuthorizationManagementClient(\n",
    "    credential=credential,\n",
    "    subscription_id=subscription_id,\n",
    "    api_version=\"2018-01-01-preview\",\n",
    ")\n",
    "\n",
    "from azure.mgmt.authorization.v2020_10_01_preview.models import (\n",
    "    RoleAssignment,\n",
    "    RoleAssignmentCreateParameters,\n",
    ")\n",
    "\n",
    "role_assignment_client = AuthorizationManagementClient(\n",
    "    credential=credential,\n",
    "    subscription_id=subscription_id,\n",
    "    api_version=\"2020-10-01-preview\",\n",
    ")"
   ]
  },
  {
   "cell_type": "markdown",
   "metadata": {},
   "source": [
    "### 3.4 Assign the Contributor role to the compute instance"
   ]
  },
  {
   "cell_type": "code",
   "execution_count": null,
   "metadata": {},
   "outputs": [],
   "source": [
    "role_name = \"Contributor\"\n",
    "scope = compute.id\n",
    "\n",
    "role_defs = role_definition_client.role_definitions.list(scope=scope)\n",
    "role_def = next((r for r in role_defs if r.role_name == role_name))\n",
    "\n",
    "role_assignment_client.role_assignments.create(\n",
    "    scope=scope,\n",
    "    role_assignment_name=str(uuid.uuid4()),\n",
    "    parameters=RoleAssignmentCreateParameters(\n",
    "        role_definition_id=role_def.id,\n",
    "        principal_id=compute.identity.principal_id,\n",
    "        principal_type=\"ServicePrincipal\"\n",
    "    )\n",
    ")"
   ]
  },
  {
   "cell_type": "markdown",
   "metadata": {},
   "source": [
    "## 4. Run the profiler"
   ]
  },
  {
   "cell_type": "markdown",
   "metadata": {},
   "source": [
    "### 4.1 Upload the payload"
   ]
  },
  {
   "cell_type": "code",
   "execution_count": 47,
   "metadata": {},
   "outputs": [],
   "source": [
    "payload = Data(\n",
    "    name=\"payload\",\n",
    "    type=AssetTypes.URI_FILE,\n",
    "    path=\"profiler/profiling/payload.txt\",\n",
    "    datastore=\"workspaceblobstore\"\n",
    ")"
   ]
  },
  {
   "cell_type": "code",
   "execution_count": null,
   "metadata": {},
   "outputs": [],
   "source": [
    "payload = ml_client.data.create_or_update(payload)"
   ]
  },
  {
   "cell_type": "markdown",
   "metadata": {},
   "source": [
    "### 4.2 Create a profiling job"
   ]
  },
  {
   "cell_type": "code",
   "execution_count": null,
   "metadata": {},
   "outputs": [],
   "source": [
    "job = CommandJob(\n",
    "    command=\"python -m online_endpoints_model_profiler --payload_path ${{inputs.payload}}\", \n",
    "    experiment_name=\"profiling-job\", \n",
    "    display_name=f\"{profiler_compute_size}:1\",\n",
    "    environment=Environment(\n",
    "        image=\"mcr.microsoft.com/azureml/online-endpoints-model-profiler:latest\"\n",
    "    ),\n",
    "    environment_variables={ \n",
    "        \"ONLINE_ENDPOINT\": endpoint_name,\n",
    "        \"DEPLOYMENT\": \"blue\",\n",
    "        \"PROFILING_TOOL\": \"wrk\",\n",
    "        \"DURATION\": \"10\",\n",
    "        \"CONNECTIONS\": \"1\", \n",
    "        \"TARGET_RPS\": \"50\", \n",
    "        \"CLIENTS\": \"1\", \n",
    "        \"TIMEOUT\": \"10\",\n",
    "        \"THREAD\": \"1\"\n",
    "    },\n",
    "    compute = f\"azureml:{profiler_compute_name}\",\n",
    "    inputs = {\n",
    "        \"payload\" : Input(\n",
    "            type=\"uri_file\", \n",
    "            path=payload.path \n",
    "        )\n",
    "    }\n",
    ")"
   ]
  }
 ],
 "metadata": {
  "kernelspec": {
   "display_name": "Python 3.10.6 ('amlex-infschema')",
   "language": "python",
   "name": "python3"
  },
  "language_info": {
   "codemirror_mode": {
    "name": "ipython",
    "version": 3
   },
   "file_extension": ".py",
   "mimetype": "text/x-python",
   "name": "python",
   "nbconvert_exporter": "python",
   "pygments_lexer": "ipython3",
   "version": "3.10.6"
  },
  "orig_nbformat": 4,
  "vscode": {
   "interpreter": {
    "hash": "551a8cf72b4d3415950b8ca8640992b04259286a8f1f283af90604d953b514a0"
   }
  }
 },
 "nbformat": 4,
 "nbformat_minor": 2
}
